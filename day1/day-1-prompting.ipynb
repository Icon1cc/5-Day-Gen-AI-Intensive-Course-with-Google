{
 "cells": [
  {
   "cell_type": "markdown",
   "id": "545d53fe",
   "metadata": {
    "id": "jkxRSYjzA1oX",
    "papermill": {
     "duration": 0.014434,
     "end_time": "2025-03-30T20:17:33.257232",
     "exception": false,
     "start_time": "2025-03-30T20:17:33.242798",
     "status": "completed"
    },
    "tags": []
   },
   "source": [
    "##### Copyright 2025 Google LLC."
   ]
  },
  {
   "cell_type": "code",
   "execution_count": 1,
   "id": "1abf663e",
   "metadata": {
    "cellView": "form",
    "execution": {
     "iopub.execute_input": "2025-03-30T20:17:33.285528Z",
     "iopub.status.busy": "2025-03-30T20:17:33.285138Z",
     "iopub.status.idle": "2025-03-30T20:17:33.290482Z",
     "shell.execute_reply": "2025-03-30T20:17:33.289624Z"
    },
    "id": "5u5OZ2ShA3BA",
    "jupyter": {
     "source_hidden": true
    },
    "papermill": {
     "duration": 0.021263,
     "end_time": "2025-03-30T20:17:33.292652",
     "exception": false,
     "start_time": "2025-03-30T20:17:33.271389",
     "status": "completed"
    },
    "tags": []
   },
   "outputs": [],
   "source": [
    "# @title Licensed under the Apache License, Version 2.0 (the \"License\");\n",
    "# you may not use this file except in compliance with the License.\n",
    "# You may obtain a copy of the License at\n",
    "#\n",
    "# https://www.apache.org/licenses/LICENSE-2.0\n",
    "#\n",
    "# Unless required by applicable law or agreed to in writing, software\n",
    "# distributed under the License is distributed on an \"AS IS\" BASIS,\n",
    "# WITHOUT WARRANTIES OR CONDITIONS OF ANY KIND, either express or implied.\n",
    "# See the License for the specific language governing permissions and\n",
    "# limitations under the License."
   ]
  },
  {
   "cell_type": "markdown",
   "id": "58dbb518",
   "metadata": {
    "id": "csNPnkuCobmG",
    "papermill": {
     "duration": 0.012798,
     "end_time": "2025-03-30T20:17:33.318083",
     "exception": false,
     "start_time": "2025-03-30T20:17:33.305285",
     "status": "completed"
    },
    "tags": []
   },
   "source": [
    "# Day 1 - Prompting\n",
    "\n",
    "Welcome to the Kaggle 5-day Generative AI course!\n",
    "\n",
    "This notebook will show you how to get started with the Gemini API and walk you through some of the example prompts and techniques that you can also read about in the Prompting whitepaper. You don't need to read the whitepaper to use this notebook, but the papers will give you some theoretical context and background to complement this interactive notebook.\n",
    "\n",
    "\n",
    "## Before you begin\n",
    "\n",
    "In this notebook, you'll start exploring prompting using the Python SDK and AI Studio. For some inspiration, you might enjoy exploring some apps that have been built using the Gemini family of models. Here are a few that we like, and we think you will too.\n",
    "\n",
    "* [TextFX](https://textfx.withgoogle.com/) is a suite of AI-powered tools for rappers, made in collaboration with Lupe Fiasco,\n",
    "* [SQL Talk](https://sql-talk-r5gdynozbq-uc.a.run.app/) shows how you can talk directly to a database using the Gemini API,\n",
    "* [NotebookLM](https://notebooklm.google/) uses Gemini models to build your own personal AI research assistant.\n",
    "\n",
    "\n",
    "## For help\n",
    "\n",
    "**Common issues are covered in the [FAQ and troubleshooting guide](https://www.kaggle.com/code/markishere/day-0-troubleshooting-and-faqs).**\n",
    "\n",
    "## New for Gemini 2.0!\n",
    "\n",
    "This course material was first launched in November 2024. The AI and LLM space is moving incredibly fast, so we have made some updates to use the latest models and capabilities.\n",
    "\n",
    "* These codelabs have been updated to use the Gemini 2.0 family of models.\n",
    "* The Python SDK has been updated from `google-generativeai` to the new, unified [`google-genai`](https://pypi.org/project/google-genai) SDK.\n",
    "  * This new SDK works with both the developer Gemini API as well as Google Cloud Vertex AI, and switching is [as simple as changing some fields](https://pypi.org/project/google-genai/#:~:text=.Client%28%29-,API%20Selection,-By%20default%2C%20the).\n",
    "* New model capabilities have been added to the relevant codelabs, such as \"thinking mode\" in this lab.\n",
    "* Day 1 includes a new [Evaluation codelab](https://www.kaggle.com/code/markishere/day-1-evaluation-and-structured-output)."
   ]
  },
  {
   "cell_type": "markdown",
   "id": "7dcac022",
   "metadata": {
    "id": "f00ea7c99e44",
    "papermill": {
     "duration": 0.012457,
     "end_time": "2025-03-30T20:17:33.343073",
     "exception": false,
     "start_time": "2025-03-30T20:17:33.330616",
     "status": "completed"
    },
    "tags": []
   },
   "source": [
    "## Get started with Kaggle notebooks\n",
    "\n",
    "If this is your first time using a Kaggle notebook, welcome! You can read about how to use Kaggle notebooks [in the docs](https://www.kaggle.com/docs/notebooks).\n",
    "\n",
    "First, you will need to phone verify your account at kaggle.com/settings.\n",
    "\n",
    "![](https://storage.googleapis.com/kaggle-media/Images/5dgai_0.png)"
   ]
  },
  {
   "cell_type": "markdown",
   "id": "9fd94317",
   "metadata": {
    "papermill": {
     "duration": 0.012224,
     "end_time": "2025-03-30T20:17:33.367701",
     "exception": false,
     "start_time": "2025-03-30T20:17:33.355477",
     "status": "completed"
    },
    "tags": []
   },
   "source": [
    "To run this notebook, as well as the others in this course, you will need to make a copy, or fork, the notebook. Look for the `Copy and Edit` button in the top-right, and **click it** to make an editable, private copy of the notebook. It should look like this one:\n",
    "\n",
    "![Copy and Edit button](https://storage.googleapis.com/kaggle-media/Images/5gdai_sc_1.png)\n",
    "\n",
    "Your copy will now have a ▶️ **Run** button next to each code cell that you can press to execute that cell. These notebooks are expected to be run in order from top-to-bottom, but you are encouraged to add new cells, run your own code and explore. If you get stuck, you can try the `Factory reset` option in the `Run` menu, or head back to the original notebook and make a fresh copy.\n",
    "\n",
    "![Run cell button](https://storage.googleapis.com/kaggle-media/Images/5gdai_sc_2.png)\n",
    "\n",
    "### Problems?\n",
    "\n",
    "If you have any problems, head over to the [Kaggle Discord](https://discord.com/invite/kaggle), find the [`#5dgai-q-and-a` channel](https://discord.com/channels/1101210829807956100/1303438695143178251) and ask for help."
   ]
  },
  {
   "cell_type": "markdown",
   "id": "30906998",
   "metadata": {
    "id": "ExkOXcPxtTb5",
    "papermill": {
     "duration": 0.012673,
     "end_time": "2025-03-30T20:17:33.393108",
     "exception": false,
     "start_time": "2025-03-30T20:17:33.380435",
     "status": "completed"
    },
    "tags": []
   },
   "source": [
    "## Get started with the Gemini API\n",
    "\n",
    "All of the exercises in this notebook will use the [Gemini API](https://ai.google.dev/gemini-api/) by way of the [Python SDK](https://pypi.org/project/google-genai/). Each of these prompts can be accessed directly in [Google AI Studio](https://aistudio.google.com/) too, so if you would rather use a web interface and skip the code for this activity, look for the <img src=\"https://ai.google.dev/site-assets/images/marketing/home/icon-ais.png\" style=\"height: 24px\" height=24/> AI Studio link on each prompt."
   ]
  },
  {
   "cell_type": "markdown",
   "id": "1509943f",
   "metadata": {
    "papermill": {
     "duration": 0.012172,
     "end_time": "2025-03-30T20:17:33.418349",
     "exception": false,
     "start_time": "2025-03-30T20:17:33.406177",
     "status": "completed"
    },
    "tags": []
   },
   "source": [
    "Next, you will need to add your API key to your Kaggle Notebook as a Kaggle User Secret.\n",
    "\n",
    "![](https://storage.googleapis.com/kaggle-media/Images/5dgai_1.png)\n",
    "![](https://storage.googleapis.com/kaggle-media/Images/5dgai_2.png)\n",
    "![](https://storage.googleapis.com/kaggle-media/Images/5dgai_3.png)\n",
    "![](https://storage.googleapis.com/kaggle-media/Images/5dgai_4.png)"
   ]
  },
  {
   "cell_type": "markdown",
   "id": "b67dd999",
   "metadata": {
    "id": "UAjUV3BsvFXQ",
    "papermill": {
     "duration": 0.012214,
     "end_time": "2025-03-30T20:17:33.443073",
     "exception": false,
     "start_time": "2025-03-30T20:17:33.430859",
     "status": "completed"
    },
    "tags": []
   },
   "source": [
    "### Install the SDK"
   ]
  },
  {
   "cell_type": "code",
   "execution_count": 2,
   "id": "7a6ade13",
   "metadata": {
    "execution": {
     "iopub.execute_input": "2025-03-30T20:17:33.469782Z",
     "iopub.status.busy": "2025-03-30T20:17:33.469349Z",
     "iopub.status.idle": "2025-03-30T20:17:52.219129Z",
     "shell.execute_reply": "2025-03-30T20:17:52.217313Z"
    },
    "id": "NzwzJFU9LqkJ",
    "papermill": {
     "duration": 18.766229,
     "end_time": "2025-03-30T20:17:52.221764",
     "exception": false,
     "start_time": "2025-03-30T20:17:33.455535",
     "status": "completed"
    },
    "tags": []
   },
   "outputs": [],
   "source": [
    "!pip uninstall -qy jupyterlab  # Remove unused packages from Kaggle's base image that conflict\n",
    "!pip install -U -q \"google-genai==1.7.0\""
   ]
  },
  {
   "cell_type": "markdown",
   "id": "f724d7ca",
   "metadata": {
    "papermill": {
     "duration": 0.012336,
     "end_time": "2025-03-30T20:17:52.247651",
     "exception": false,
     "start_time": "2025-03-30T20:17:52.235315",
     "status": "completed"
    },
    "tags": []
   },
   "source": [
    "Import the SDK and some helpers for rendering the output."
   ]
  },
  {
   "cell_type": "code",
   "execution_count": 3,
   "id": "1b2fbe40",
   "metadata": {
    "execution": {
     "iopub.execute_input": "2025-03-30T20:17:52.275786Z",
     "iopub.status.busy": "2025-03-30T20:17:52.275340Z",
     "iopub.status.idle": "2025-03-30T20:17:53.619911Z",
     "shell.execute_reply": "2025-03-30T20:17:53.618878Z"
    },
    "id": "5DwxYIRavMST",
    "papermill": {
     "duration": 1.361389,
     "end_time": "2025-03-30T20:17:53.622271",
     "exception": false,
     "start_time": "2025-03-30T20:17:52.260882",
     "status": "completed"
    },
    "tags": []
   },
   "outputs": [],
   "source": [
    "from google import genai\n",
    "from google.genai import types\n",
    "\n",
    "from IPython.display import HTML, Markdown, display"
   ]
  },
  {
   "cell_type": "markdown",
   "id": "d9be08f9",
   "metadata": {
    "papermill": {
     "duration": 0.012255,
     "end_time": "2025-03-30T20:17:53.647318",
     "exception": false,
     "start_time": "2025-03-30T20:17:53.635063",
     "status": "completed"
    },
    "tags": []
   },
   "source": [
    "Set up a retry helper. This allows you to \"Run all\" without worrying about per-minute quota."
   ]
  },
  {
   "cell_type": "code",
   "execution_count": 4,
   "id": "410764e1",
   "metadata": {
    "execution": {
     "iopub.execute_input": "2025-03-30T20:17:53.674789Z",
     "iopub.status.busy": "2025-03-30T20:17:53.674087Z",
     "iopub.status.idle": "2025-03-30T20:17:53.858023Z",
     "shell.execute_reply": "2025-03-30T20:17:53.856829Z"
    },
    "papermill": {
     "duration": 0.20053,
     "end_time": "2025-03-30T20:17:53.860514",
     "exception": false,
     "start_time": "2025-03-30T20:17:53.659984",
     "status": "completed"
    },
    "tags": []
   },
   "outputs": [],
   "source": [
    "from google.api_core import retry\n",
    "\n",
    "\n",
    "is_retriable = lambda e: (isinstance(e, genai.errors.APIError) and e.code in {429, 503})\n",
    "\n",
    "genai.models.Models.generate_content = retry.Retry(\n",
    "    predicate=is_retriable)(genai.models.Models.generate_content)"
   ]
  },
  {
   "cell_type": "markdown",
   "id": "cd1b2ba6",
   "metadata": {
    "id": "DNEt2BCOvOJ1",
    "papermill": {
     "duration": 0.012422,
     "end_time": "2025-03-30T20:17:53.886261",
     "exception": false,
     "start_time": "2025-03-30T20:17:53.873839",
     "status": "completed"
    },
    "tags": []
   },
   "source": [
    "### Set up your API key\n",
    "\n",
    "To run the following cell, your API key must be stored it in a [Kaggle secret](https://www.kaggle.com/discussions/product-feedback/114053) named `GOOGLE_API_KEY`.\n",
    "\n",
    "If you don't already have an API key, you can grab one from [AI Studio](https://aistudio.google.com/app/apikey). You can find [detailed instructions in the docs](https://ai.google.dev/gemini-api/docs/api-key).\n",
    "\n",
    "To make the key available through Kaggle secrets, choose `Secrets` from the `Add-ons` menu and follow the instructions to add your key or enable it for this notebook."
   ]
  },
  {
   "cell_type": "code",
   "execution_count": 6,
   "id": "e02b55a7",
   "metadata": {
    "execution": {
     "iopub.execute_input": "2025-03-30T20:17:54.158916Z",
     "iopub.status.busy": "2025-03-30T20:17:54.158470Z",
     "iopub.status.idle": "2025-03-30T20:17:54.354579Z",
     "shell.execute_reply": "2025-03-30T20:17:54.353522Z"
    },
    "id": "SHl0bkPCvayd",
    "papermill": {
     "duration": 0.213806,
     "end_time": "2025-03-30T20:17:54.357020",
     "exception": false,
     "start_time": "2025-03-30T20:17:54.143214",
     "status": "completed"
    },
    "tags": []
   },
   "outputs": [],
   "source": [
    "from kaggle_secrets import UserSecretsClient\n",
    "\n",
    "GOOGLE_API_KEY = UserSecretsClient().get_secret(\"GOOGLE_API_KEY\")"
   ]
  },
  {
   "cell_type": "markdown",
   "id": "4a25e751",
   "metadata": {
    "id": "4e720472fd86",
    "papermill": {
     "duration": 0.012304,
     "end_time": "2025-03-30T20:17:54.381857",
     "exception": false,
     "start_time": "2025-03-30T20:17:54.369553",
     "status": "completed"
    },
    "tags": []
   },
   "source": [
    "If you received an error response along the lines of `No user secrets exist for kernel id ...`, then you need to add your API key via `Add-ons`, `Secrets` **and** enable it.\n",
    "\n",
    "![Screenshot of the checkbox to enable GOOGLE_API_KEY secret](https://storage.googleapis.com/kaggle-media/Images/5gdai_sc_3.png)"
   ]
  },
  {
   "cell_type": "markdown",
   "id": "d63accfb",
   "metadata": {
    "id": "H_YXCYIKvyZJ",
    "papermill": {
     "duration": 0.012431,
     "end_time": "2025-03-30T20:17:54.406772",
     "exception": false,
     "start_time": "2025-03-30T20:17:54.394341",
     "status": "completed"
    },
    "tags": []
   },
   "source": [
    "### Run your first prompt\n",
    "\n",
    "In this step, you will test that your API key is set up correctly by making a request.\n",
    "\n",
    "The Python SDK uses a [`Client` object](https://googleapis.github.io/python-genai/genai.html#genai.client.Client) to make requests to the API. The client lets you control which back-end to use (between the Gemini API and Vertex AI) and handles authentication (the API key).\n",
    "\n",
    "The `gemini-2.0-flash` model has been selected here.\n",
    "\n",
    "**Note**: If you see a `TransportError` on this step, you may need to **🔁 Factory reset** the notebook one time."
   ]
  },
  {
   "cell_type": "code",
   "execution_count": 7,
   "id": "eb372193",
   "metadata": {
    "execution": {
     "iopub.execute_input": "2025-03-30T20:17:54.433560Z",
     "iopub.status.busy": "2025-03-30T20:17:54.433178Z",
     "iopub.status.idle": "2025-03-30T20:17:57.363040Z",
     "shell.execute_reply": "2025-03-30T20:17:57.361935Z"
    },
    "id": "BV1o0PmcvyJF",
    "papermill": {
     "duration": 2.946234,
     "end_time": "2025-03-30T20:17:57.365612",
     "exception": false,
     "start_time": "2025-03-30T20:17:54.419378",
     "status": "completed"
    },
    "tags": []
   },
   "outputs": [
    {
     "name": "stdout",
     "output_type": "stream",
     "text": [
      "Okay, imagine you have a really, really smart toy robot. This robot can learn new things, like how to play a game or tell stories.\n",
      "\n",
      "That robot's brain is like AI, which stands for Artificial Intelligence.\n",
      "\n",
      "**Artificial** means made by people, not something that grows naturally like a plant.\n",
      "\n",
      "**Intelligence** means being able to learn and understand things, like you do!\n",
      "\n",
      "So, AI is basically a computer program that's been taught to do things that usually need a smart person to do.\n",
      "\n",
      "Here's how it works:\n",
      "\n",
      "*   **Learning from Examples:** Imagine you're teaching the robot to recognize cats. You show it lots and lots of pictures of cats.  The robot learns what cats look like, like pointy ears, whiskers, and furry bodies.\n",
      "*   **Figuring Things Out:** After seeing lots of cat pictures, the robot can then look at a new picture and say, \"Hey, that's a cat!\" It's figuring things out based on what it learned.\n",
      "*   **Doing Different Things:**  AI can do lots of different things, not just recognize cats! It can play games like chess, write stories, help doctors find illnesses, or even drive cars!\n",
      "\n",
      "**Think of it like this:**\n",
      "\n",
      "*   You learn to ride a bike by practicing and falling down a few times. AI learns by looking at lots of examples and making mistakes until it gets it right.\n",
      "\n",
      "**Where do we see AI?**\n",
      "\n",
      "*   When you talk to Siri or Alexa, that's AI helping you.\n",
      "*   When you watch videos on YouTube, AI helps decide which videos you might like.\n",
      "*   Some video games use AI to make the characters you play against smarter.\n",
      "\n",
      "**Important Note:**  AI isn't perfect, and it's not really \"alive\". It's just a really clever program that follows instructions. And just like with any tool, it's important to use it responsibly and make sure it's doing good things!\n",
      "\n",
      "Do you have any other questions about AI? I'll try my best to explain them!\n",
      "\n"
     ]
    }
   ],
   "source": [
    "client = genai.Client(api_key=GOOGLE_API_KEY)\n",
    "\n",
    "response = client.models.generate_content(\n",
    "    model=\"gemini-2.0-flash\",\n",
    "    contents=\"Explain AI to me like I'm a kid.\")\n",
    "\n",
    "print(response.text)"
   ]
  },
  {
   "cell_type": "markdown",
   "id": "569c8bcc",
   "metadata": {
    "id": "f60ed9d8ae41",
    "papermill": {
     "duration": 0.012945,
     "end_time": "2025-03-30T20:17:57.393688",
     "exception": false,
     "start_time": "2025-03-30T20:17:57.380743",
     "status": "completed"
    },
    "tags": []
   },
   "source": [
    "The response often comes back in markdown format, which you can render directly in this notebook."
   ]
  },
  {
   "cell_type": "code",
   "execution_count": 8,
   "id": "d0f47e01",
   "metadata": {
    "execution": {
     "iopub.execute_input": "2025-03-30T20:17:57.420979Z",
     "iopub.status.busy": "2025-03-30T20:17:57.420595Z",
     "iopub.status.idle": "2025-03-30T20:17:57.428682Z",
     "shell.execute_reply": "2025-03-30T20:17:57.427570Z"
    },
    "id": "c933e5e460a5",
    "papermill": {
     "duration": 0.024547,
     "end_time": "2025-03-30T20:17:57.431140",
     "exception": false,
     "start_time": "2025-03-30T20:17:57.406593",
     "status": "completed"
    },
    "tags": []
   },
   "outputs": [
    {
     "data": {
      "text/markdown": [
       "Okay, imagine you have a really, really smart toy robot. This robot can learn new things, like how to play a game or tell stories.\n",
       "\n",
       "That robot's brain is like AI, which stands for Artificial Intelligence.\n",
       "\n",
       "**Artificial** means made by people, not something that grows naturally like a plant.\n",
       "\n",
       "**Intelligence** means being able to learn and understand things, like you do!\n",
       "\n",
       "So, AI is basically a computer program that's been taught to do things that usually need a smart person to do.\n",
       "\n",
       "Here's how it works:\n",
       "\n",
       "*   **Learning from Examples:** Imagine you're teaching the robot to recognize cats. You show it lots and lots of pictures of cats.  The robot learns what cats look like, like pointy ears, whiskers, and furry bodies.\n",
       "*   **Figuring Things Out:** After seeing lots of cat pictures, the robot can then look at a new picture and say, \"Hey, that's a cat!\" It's figuring things out based on what it learned.\n",
       "*   **Doing Different Things:**  AI can do lots of different things, not just recognize cats! It can play games like chess, write stories, help doctors find illnesses, or even drive cars!\n",
       "\n",
       "**Think of it like this:**\n",
       "\n",
       "*   You learn to ride a bike by practicing and falling down a few times. AI learns by looking at lots of examples and making mistakes until it gets it right.\n",
       "\n",
       "**Where do we see AI?**\n",
       "\n",
       "*   When you talk to Siri or Alexa, that's AI helping you.\n",
       "*   When you watch videos on YouTube, AI helps decide which videos you might like.\n",
       "*   Some video games use AI to make the characters you play against smarter.\n",
       "\n",
       "**Important Note:**  AI isn't perfect, and it's not really \"alive\". It's just a really clever program that follows instructions. And just like with any tool, it's important to use it responsibly and make sure it's doing good things!\n",
       "\n",
       "Do you have any other questions about AI? I'll try my best to explain them!\n"
      ],
      "text/plain": [
       "<IPython.core.display.Markdown object>"
      ]
     },
     "execution_count": 8,
     "metadata": {},
     "output_type": "execute_result"
    }
   ],
   "source": [
    "Markdown(response.text)"
   ]
  },
  {
   "cell_type": "markdown",
   "id": "fab18c51",
   "metadata": {
    "id": "byx0pT9ZMW2Q",
    "papermill": {
     "duration": 0.012776,
     "end_time": "2025-03-30T20:17:57.457082",
     "exception": false,
     "start_time": "2025-03-30T20:17:57.444306",
     "status": "completed"
    },
    "tags": []
   },
   "source": [
    "### Start a chat\n",
    "\n",
    "The previous example uses a single-turn, text-in/text-out structure, but you can also set up a multi-turn chat structure too."
   ]
  },
  {
   "cell_type": "code",
   "execution_count": 9,
   "id": "79dfca2e",
   "metadata": {
    "execution": {
     "iopub.execute_input": "2025-03-30T20:17:57.484981Z",
     "iopub.status.busy": "2025-03-30T20:17:57.484566Z",
     "iopub.status.idle": "2025-03-30T20:17:57.948697Z",
     "shell.execute_reply": "2025-03-30T20:17:57.947653Z"
    },
    "id": "lV_S5ZL5MidD",
    "papermill": {
     "duration": 0.480717,
     "end_time": "2025-03-30T20:17:57.950992",
     "exception": false,
     "start_time": "2025-03-30T20:17:57.470275",
     "status": "completed"
    },
    "tags": []
   },
   "outputs": [
    {
     "name": "stdout",
     "output_type": "stream",
     "text": [
      "Hello Zlork! It's nice to meet you. Is there anything I can help you with today?\n",
      "\n"
     ]
    }
   ],
   "source": [
    "chat = client.chats.create(model='gemini-2.0-flash', history=[])\n",
    "response = chat.send_message('Hello! My name is Zlork.')\n",
    "print(response.text)"
   ]
  },
  {
   "cell_type": "code",
   "execution_count": 10,
   "id": "c0d83a2c",
   "metadata": {
    "execution": {
     "iopub.execute_input": "2025-03-30T20:17:57.979706Z",
     "iopub.status.busy": "2025-03-30T20:17:57.979276Z",
     "iopub.status.idle": "2025-03-30T20:17:59.416329Z",
     "shell.execute_reply": "2025-03-30T20:17:59.415214Z"
    },
    "id": "7b0372c3c64a",
    "papermill": {
     "duration": 1.45443,
     "end_time": "2025-03-30T20:17:59.418768",
     "exception": false,
     "start_time": "2025-03-30T20:17:57.964338",
     "status": "completed"
    },
    "tags": []
   },
   "outputs": [
    {
     "name": "stdout",
     "output_type": "stream",
     "text": [
      "Okay, here's an interesting fact about dinosaurs:\n",
      "\n",
      "**Many dinosaurs likely had feathers, even some of the biggest ones!**\n",
      "\n",
      "While we often picture dinosaurs as scaly reptiles, increasing fossil evidence shows that feathers were far more widespread than previously thought. It's not just small, bird-like dinosaurs either; some large theropods, like *Tyrannosaurus rex*, probably had at least some feathery covering, particularly in their juvenile stages.\n",
      "\n",
      "These feathers weren't always for flight, but could have been used for:\n",
      "\n",
      "*   **Insulation:** Helping them stay warm, especially in cooler climates.\n",
      "*   **Display:** Attracting mates or intimidating rivals with brightly colored or patterned feathers.\n",
      "*   **Camouflage:** Blending in with their environment.\n",
      "\n",
      "So, next time you think of a dinosaur, remember that they might have been fluffier than you think!\n",
      "\n"
     ]
    }
   ],
   "source": [
    "response = chat.send_message('Can you tell me something interesting about dinosaurs?')\n",
    "print(response.text)"
   ]
  },
  {
   "cell_type": "markdown",
   "id": "86e792d9",
   "metadata": {
    "papermill": {
     "duration": 0.012781,
     "end_time": "2025-03-30T20:17:59.444806",
     "exception": false,
     "start_time": "2025-03-30T20:17:59.432025",
     "status": "completed"
    },
    "tags": []
   },
   "source": [
    "While you have the `chat` object alive, the conversation state\n",
    "persists. Confirm that by asking if it knows the user's name."
   ]
  },
  {
   "cell_type": "code",
   "execution_count": 11,
   "id": "340cab4f",
   "metadata": {
    "execution": {
     "iopub.execute_input": "2025-03-30T20:17:59.473020Z",
     "iopub.status.busy": "2025-03-30T20:17:59.472057Z",
     "iopub.status.idle": "2025-03-30T20:17:59.901898Z",
     "shell.execute_reply": "2025-03-30T20:17:59.900831Z"
    },
    "id": "d3f9591392a7",
    "papermill": {
     "duration": 0.446608,
     "end_time": "2025-03-30T20:17:59.904456",
     "exception": false,
     "start_time": "2025-03-30T20:17:59.457848",
     "status": "completed"
    },
    "tags": []
   },
   "outputs": [
    {
     "name": "stdout",
     "output_type": "stream",
     "text": [
      "Yes, Zlork! I remember your name.\n",
      "\n"
     ]
    }
   ],
   "source": [
    "response = chat.send_message('Do you remember what my name is?')\n",
    "print(response.text)"
   ]
  },
  {
   "cell_type": "markdown",
   "id": "dfb9d4e1",
   "metadata": {
    "id": "2KAjpr1200sW",
    "papermill": {
     "duration": 0.013086,
     "end_time": "2025-03-30T20:17:59.931789",
     "exception": false,
     "start_time": "2025-03-30T20:17:59.918703",
     "status": "completed"
    },
    "tags": []
   },
   "source": [
    "### Choose a model\n",
    "\n",
    "The Gemini API provides access to a number of models from the Gemini model family. Read about the available models and their capabilities on the [model overview page](https://ai.google.dev/gemini-api/docs/models/gemini).\n",
    "\n",
    "In this step you'll use the API to list all of the available models."
   ]
  },
  {
   "cell_type": "code",
   "execution_count": 12,
   "id": "be87ba3a",
   "metadata": {
    "execution": {
     "iopub.execute_input": "2025-03-30T20:17:59.960371Z",
     "iopub.status.busy": "2025-03-30T20:17:59.960002Z",
     "iopub.status.idle": "2025-03-30T20:17:59.987370Z",
     "shell.execute_reply": "2025-03-30T20:17:59.986248Z"
    },
    "id": "uUUZa2uq2jDm",
    "papermill": {
     "duration": 0.044416,
     "end_time": "2025-03-30T20:17:59.989926",
     "exception": false,
     "start_time": "2025-03-30T20:17:59.945510",
     "status": "completed"
    },
    "tags": []
   },
   "outputs": [
    {
     "name": "stdout",
     "output_type": "stream",
     "text": [
      "models/chat-bison-001\n",
      "models/text-bison-001\n",
      "models/embedding-gecko-001\n",
      "models/gemini-1.0-pro-vision-latest\n",
      "models/gemini-pro-vision\n",
      "models/gemini-1.5-pro-latest\n",
      "models/gemini-1.5-pro-001\n",
      "models/gemini-1.5-pro-002\n",
      "models/gemini-1.5-pro\n",
      "models/gemini-1.5-flash-latest\n",
      "models/gemini-1.5-flash-001\n",
      "models/gemini-1.5-flash-001-tuning\n",
      "models/gemini-1.5-flash\n",
      "models/gemini-1.5-flash-002\n",
      "models/gemini-1.5-flash-8b\n",
      "models/gemini-1.5-flash-8b-001\n",
      "models/gemini-1.5-flash-8b-latest\n",
      "models/gemini-1.5-flash-8b-exp-0827\n",
      "models/gemini-1.5-flash-8b-exp-0924\n",
      "models/gemini-2.5-pro-exp-03-25\n",
      "models/gemini-2.0-flash-exp\n",
      "models/gemini-2.0-flash\n",
      "models/gemini-2.0-flash-001\n",
      "models/gemini-2.0-flash-exp-image-generation\n",
      "models/gemini-2.0-flash-lite-001\n",
      "models/gemini-2.0-flash-lite\n",
      "models/gemini-2.0-flash-lite-preview-02-05\n",
      "models/gemini-2.0-flash-lite-preview\n",
      "models/gemini-2.0-pro-exp\n",
      "models/gemini-2.0-pro-exp-02-05\n",
      "models/gemini-exp-1206\n",
      "models/gemini-2.0-flash-thinking-exp-01-21\n",
      "models/gemini-2.0-flash-thinking-exp\n",
      "models/gemini-2.0-flash-thinking-exp-1219\n",
      "models/learnlm-1.5-pro-experimental\n",
      "models/gemma-3-27b-it\n",
      "models/embedding-001\n",
      "models/text-embedding-004\n",
      "models/gemini-embedding-exp-03-07\n",
      "models/gemini-embedding-exp\n",
      "models/aqa\n",
      "models/imagen-3.0-generate-002\n"
     ]
    }
   ],
   "source": [
    "for model in client.models.list():\n",
    "  print(model.name)"
   ]
  },
  {
   "cell_type": "markdown",
   "id": "fe71b2d2",
   "metadata": {
    "id": "rN49kSI54R1v",
    "papermill": {
     "duration": 0.012905,
     "end_time": "2025-03-30T20:18:00.016178",
     "exception": false,
     "start_time": "2025-03-30T20:18:00.003273",
     "status": "completed"
    },
    "tags": []
   },
   "source": [
    "The [`models.list`](https://ai.google.dev/api/models#method:-models.list) response also returns additional information about the model's capabilities, like the token limits and supported parameters."
   ]
  },
  {
   "cell_type": "code",
   "execution_count": 13,
   "id": "5c3d58b5",
   "metadata": {
    "execution": {
     "iopub.execute_input": "2025-03-30T20:18:00.046378Z",
     "iopub.status.busy": "2025-03-30T20:18:00.045970Z",
     "iopub.status.idle": "2025-03-30T20:18:00.074007Z",
     "shell.execute_reply": "2025-03-30T20:18:00.072935Z"
    },
    "id": "k7JJ1K6j4Rl8",
    "papermill": {
     "duration": 0.04568,
     "end_time": "2025-03-30T20:18:00.076301",
     "exception": false,
     "start_time": "2025-03-30T20:18:00.030621",
     "status": "completed"
    },
    "tags": []
   },
   "outputs": [
    {
     "name": "stdout",
     "output_type": "stream",
     "text": [
      "{'description': 'Gemini 2.0 Flash',\n",
      " 'display_name': 'Gemini 2.0 Flash',\n",
      " 'input_token_limit': 1048576,\n",
      " 'name': 'models/gemini-2.0-flash',\n",
      " 'output_token_limit': 8192,\n",
      " 'supported_actions': ['generateContent', 'countTokens'],\n",
      " 'tuned_model_info': {},\n",
      " 'version': '2.0'}\n"
     ]
    }
   ],
   "source": [
    "from pprint import pprint\n",
    "\n",
    "for model in client.models.list():\n",
    "  if model.name == 'models/gemini-2.0-flash':\n",
    "    pprint(model.to_json_dict())\n",
    "    break"
   ]
  },
  {
   "cell_type": "markdown",
   "id": "700eb991",
   "metadata": {
    "id": "5rU_UBlZdooM",
    "papermill": {
     "duration": 0.013269,
     "end_time": "2025-03-30T20:18:00.103657",
     "exception": false,
     "start_time": "2025-03-30T20:18:00.090388",
     "status": "completed"
    },
    "tags": []
   },
   "source": [
    "## Explore generation parameters\n",
    "\n"
   ]
  },
  {
   "cell_type": "markdown",
   "id": "06baadaf",
   "metadata": {
    "id": "G7NfEizeipbW",
    "papermill": {
     "duration": 0.013059,
     "end_time": "2025-03-30T20:18:00.130305",
     "exception": false,
     "start_time": "2025-03-30T20:18:00.117246",
     "status": "completed"
    },
    "tags": []
   },
   "source": [
    "### Output length\n",
    "\n",
    "When generating text with an LLM, the output length affects cost and performance. Generating more tokens increases computation, leading to higher energy consumption, latency, and cost.\n",
    "\n",
    "To stop the model from generating tokens past a limit, you can specify the `max_output_tokens` parameter when using the Gemini API. Specifying this parameter does not influence the generation of the output tokens, so the output will not become more stylistically or textually succinct, but it will stop generating tokens once the specified length is reached. Prompt engineering may be required to generate a more complete output for your given limit."
   ]
  },
  {
   "cell_type": "code",
   "execution_count": 14,
   "id": "0a90228e",
   "metadata": {
    "execution": {
     "iopub.execute_input": "2025-03-30T20:18:00.160381Z",
     "iopub.status.busy": "2025-03-30T20:18:00.159548Z",
     "iopub.status.idle": "2025-03-30T20:18:01.513126Z",
     "shell.execute_reply": "2025-03-30T20:18:01.512074Z"
    },
    "id": "qVf23JsIi9ma",
    "papermill": {
     "duration": 1.371612,
     "end_time": "2025-03-30T20:18:01.515370",
     "exception": false,
     "start_time": "2025-03-30T20:18:00.143758",
     "status": "completed"
    },
    "tags": []
   },
   "outputs": [
    {
     "name": "stdout",
     "output_type": "stream",
     "text": [
      "## The Humble Olive: A Cornerstone of Modern Society\n",
      "\n",
      "The olive, a small, unassuming fruit, holds a place of profound importance in modern society. Beyond its culinary delights, the olive tree and its products permeate our lives in ways that are often overlooked. From its historical significance as a symbol of peace and prosperity to its multifaceted role in nutrition, medicine, agriculture, and even sustainable energy, the olive continues to shape our world in subtle yet significant ways. Understanding the enduring value of the olive reveals a fascinating story of cultural heritage, scientific innovation, and a continuing contribution to a healthier and more sustainable future.\n",
      "\n",
      "Historically, the olive tree has been deeply intertwined with the rise of civilizations. Originating in the Mediterranean basin, the olive quickly became a staple crop, shaping the economies and cultures of ancient Greece, Rome, and beyond. Olive oil, in particular, was prized for its culinary uses, as a lamp fuel, and for its medicinal properties. The olive branch, as a symbol of peace and\n"
     ]
    }
   ],
   "source": [
    "from google.genai import types\n",
    "\n",
    "short_config = types.GenerateContentConfig(max_output_tokens=200)\n",
    "\n",
    "response = client.models.generate_content(\n",
    "    model='gemini-2.0-flash',\n",
    "    config=short_config,\n",
    "    contents='Write a 1000 word essay on the importance of olives in modern society.')\n",
    "\n",
    "print(response.text)"
   ]
  },
  {
   "cell_type": "code",
   "execution_count": 15,
   "id": "fbca3827",
   "metadata": {
    "execution": {
     "iopub.execute_input": "2025-03-30T20:18:01.544328Z",
     "iopub.status.busy": "2025-03-30T20:18:01.543967Z",
     "iopub.status.idle": "2025-03-30T20:18:02.236333Z",
     "shell.execute_reply": "2025-03-30T20:18:02.235306Z"
    },
    "id": "W-3kR2F5kdMR",
    "papermill": {
     "duration": 0.709913,
     "end_time": "2025-03-30T20:18:02.238770",
     "exception": false,
     "start_time": "2025-03-30T20:18:01.528857",
     "status": "completed"
    },
    "tags": []
   },
   "outputs": [
    {
     "name": "stdout",
     "output_type": "stream",
     "text": [
      "From ancient groves to modern spread,\n",
      "A tiny fruit, both green and red.\n",
      "In tapenade or pressed to gold,\n",
      "A flavor rich, a story told.\n",
      "\n",
      "On pizza bright, in martinis cool,\n",
      "A humble bite, a culinary rule.\n",
      "For health and taste, a vibrant plea,\n",
      "The olive's charm, eternally.\n",
      "\n"
     ]
    }
   ],
   "source": [
    "response = client.models.generate_content(\n",
    "    model='gemini-2.0-flash',\n",
    "    config=short_config,\n",
    "    contents='Write a short poem on the importance of olives in modern society.')\n",
    "\n",
    "print(response.text)"
   ]
  },
  {
   "cell_type": "markdown",
   "id": "d7b1bdba",
   "metadata": {
    "id": "3ZhDSLB6lqqB",
    "papermill": {
     "duration": 0.014261,
     "end_time": "2025-03-30T20:18:02.267120",
     "exception": false,
     "start_time": "2025-03-30T20:18:02.252859",
     "status": "completed"
    },
    "tags": []
   },
   "source": [
    "Explore with your own prompts. Try a prompt with a restrictive output limit and then adjust the prompt to work within that limit."
   ]
  },
  {
   "cell_type": "markdown",
   "id": "8e67f8bb",
   "metadata": {
    "id": "alx-WaAvir_9",
    "papermill": {
     "duration": 0.014325,
     "end_time": "2025-03-30T20:18:02.295456",
     "exception": false,
     "start_time": "2025-03-30T20:18:02.281131",
     "status": "completed"
    },
    "tags": []
   },
   "source": [
    "### Temperature\n",
    "\n",
    "Temperature controls the degree of randomness in token selection. Higher temperatures result in a higher number of candidate tokens from which the next output token is selected, and can produce more diverse results, while lower temperatures have the opposite effect, such that a temperature of 0 results in greedy decoding, selecting the most probable token at each step.\n",
    "\n",
    "Temperature doesn't provide any guarantees of randomness, but it can be used to \"nudge\" the output somewhat."
   ]
  },
  {
   "cell_type": "code",
   "execution_count": 16,
   "id": "0a2cc675",
   "metadata": {
    "execution": {
     "iopub.execute_input": "2025-03-30T20:18:02.327445Z",
     "iopub.status.busy": "2025-03-30T20:18:02.327079Z",
     "iopub.status.idle": "2025-03-30T20:18:03.496360Z",
     "shell.execute_reply": "2025-03-30T20:18:03.495269Z"
    },
    "id": "SHraGMzqnZqt",
    "papermill": {
     "duration": 1.186649,
     "end_time": "2025-03-30T20:18:03.498701",
     "exception": false,
     "start_time": "2025-03-30T20:18:02.312052",
     "status": "completed"
    },
    "tags": []
   },
   "outputs": [
    {
     "name": "stdout",
     "output_type": "stream",
     "text": [
      "Turquoise\n",
      " -------------------------\n",
      "Mauve\n",
      " -------------------------\n",
      "Turquoise\n",
      " -------------------------\n",
      "Turquoise\n",
      " -------------------------\n",
      "Purple\n",
      " -------------------------\n"
     ]
    }
   ],
   "source": [
    "high_temp_config = types.GenerateContentConfig(temperature=2.0)\n",
    "\n",
    "\n",
    "for _ in range(5):\n",
    "  response = client.models.generate_content(\n",
    "      model='gemini-2.0-flash',\n",
    "      config=high_temp_config,\n",
    "      contents='Pick a random colour... (respond in a single word)')\n",
    "\n",
    "  if response.text:\n",
    "    print(response.text, '-' * 25)"
   ]
  },
  {
   "cell_type": "markdown",
   "id": "8ac1079f",
   "metadata": {
    "id": "z3J4pCTuof7e",
    "papermill": {
     "duration": 0.014541,
     "end_time": "2025-03-30T20:18:03.527948",
     "exception": false,
     "start_time": "2025-03-30T20:18:03.513407",
     "status": "completed"
    },
    "tags": []
   },
   "source": [
    "Now try the same prompt with temperature set to zero. Note that the output is not completely deterministic, as other parameters affect token selection, but the results will tend to be more stable."
   ]
  },
  {
   "cell_type": "code",
   "execution_count": 17,
   "id": "162d5714",
   "metadata": {
    "execution": {
     "iopub.execute_input": "2025-03-30T20:18:03.557994Z",
     "iopub.status.busy": "2025-03-30T20:18:03.557588Z",
     "iopub.status.idle": "2025-03-30T20:18:41.250880Z",
     "shell.execute_reply": "2025-03-30T20:18:41.249585Z"
    },
    "id": "clymkWv-PfUZ",
    "papermill": {
     "duration": 37.723922,
     "end_time": "2025-03-30T20:18:41.266360",
     "exception": false,
     "start_time": "2025-03-30T20:18:03.542438",
     "status": "completed"
    },
    "tags": []
   },
   "outputs": [
    {
     "name": "stdout",
     "output_type": "stream",
     "text": [
      "Azure\n",
      " -------------------------\n",
      "Azure\n",
      " -------------------------\n",
      "Azure\n",
      " -------------------------\n",
      "Azure\n",
      " -------------------------\n",
      "Azure\n",
      " -------------------------\n"
     ]
    }
   ],
   "source": [
    "low_temp_config = types.GenerateContentConfig(temperature=0.0)\n",
    "\n",
    "for _ in range(5):\n",
    "  response = client.models.generate_content(\n",
    "      model='gemini-2.0-flash',\n",
    "      config=low_temp_config,\n",
    "      contents='Pick a random colour... (respond in a single word)')\n",
    "\n",
    "  if response.text:\n",
    "    print(response.text, '-' * 25)"
   ]
  },
  {
   "cell_type": "markdown",
   "id": "964d1b5a",
   "metadata": {
    "id": "St5nt3vzitsZ",
    "papermill": {
     "duration": 0.014173,
     "end_time": "2025-03-30T20:18:41.295263",
     "exception": false,
     "start_time": "2025-03-30T20:18:41.281090",
     "status": "completed"
    },
    "tags": []
   },
   "source": [
    "### Top-P\n",
    "\n",
    "Like temperature, the top-P parameter is also used to control the diversity of the model's output.\n",
    "\n",
    "Top-P defines the probability threshold that, once cumulatively exceeded, tokens stop being selected as candidates. A top-P of 0 is typically equivalent to greedy decoding, and a top-P of 1 typically selects every token in the model's vocabulary.\n",
    "\n",
    "You may also see top-K referenced in LLM literature. Top-K is not configurable in the Gemini 2.0 series of models, but can be changed in older models. Top-K is a positive integer that defines the number of most probable tokens from which to select the output token. A top-K of 1 selects a single token, performing greedy decoding.\n",
    "\n",
    "\n",
    "Run this example a number of times, change the settings and observe the change in output."
   ]
  },
  {
   "cell_type": "code",
   "execution_count": 18,
   "id": "d4869287",
   "metadata": {
    "execution": {
     "iopub.execute_input": "2025-03-30T20:18:41.326477Z",
     "iopub.status.busy": "2025-03-30T20:18:41.326124Z",
     "iopub.status.idle": "2025-03-30T20:18:46.356689Z",
     "shell.execute_reply": "2025-03-30T20:18:46.355653Z"
    },
    "id": "lPlzpEavUV8F",
    "papermill": {
     "duration": 5.049463,
     "end_time": "2025-03-30T20:18:46.359207",
     "exception": false,
     "start_time": "2025-03-30T20:18:41.309744",
     "status": "completed"
    },
    "tags": []
   },
   "outputs": [
    {
     "name": "stdout",
     "output_type": "stream",
     "text": [
      "Clementine, a calico with a perpetually surprised expression, was not built for adventure. Her days consisted of naps in sunbeams, batting dust motes, and judging the quality of each head scratch with the critical eye of a seasoned art critic. But the breeze that ruffled her whiskers that morning carried a scent she’d never encountered before: a wild, untamed fragrance of damp earth, unfamiliar flowers, and something…fishy.\n",
      "\n",
      "It was too much for Clementine to resist.\n",
      "\n",
      "With a furtive glance at the napping humans (who were, after all, notoriously oblivious), she slipped through the crack in the back door. The scent led her down the familiar porch steps, past the neatly trimmed rose bushes, and into a realm she'd only glimpsed through the window: the tangled, overgrown wonderland beyond the garden fence.\n",
      "\n",
      "Immediately, the world exploded. Grass tickled her belly, bees buzzed like miniature helicopters, and butterflies, those winged aerial acrobats, taunted her with their impossible grace. Clementine, normally a creature of refined indolence, found herself stalking through the undergrowth, ears twitching, tail held high.\n",
      "\n",
      "Her adventure took her past a babbling brook, where she narrowly avoided a dunking thanks to a well-timed leap onto a mossy stone. She braved a forest of towering ferns, each one a potential monster in her imagination. She even had a brief but tense standoff with a grumpy hedgehog, who clearly considered her intrusion a personal affront.\n",
      "\n",
      "The scent, the intoxicating, fishy-smelling scent, grew stronger. It led her to a small pond, shimmering under the dappled sunlight. And there, on a lily pad, sat a magnificent, iridescent dragonfly, its wings catching the light like stained glass.\n",
      "\n",
      "But it wasn't the dragonfly that held Clementine's attention. It was what the dragonfly was guarding: a single, perfectly formed goldfish, trapped in a small, abandoned child's bucket.\n",
      "\n",
      "Clementine, the pampered house cat, felt a surge of something unfamiliar. Not hunger. Not curiosity. Something…like responsibility.\n",
      "\n",
      "She couldn't just leave the fish. It was clearly distressed, its gills working overtime. With a deep breath, Clementine stretched out a tentative paw and nudged the bucket. It tipped precariously, spilling a splash of water. The goldfish flopped frantically.\n",
      "\n",
      "Determined, Clementine braced herself and gave the bucket another, more forceful push. This time, it tumbled completely, spilling its contents into the pond. The goldfish, free at last, swam away with a joyful flick of its tail.\n",
      "\n",
      "Clementine watched it go, a strange sense of satisfaction blooming in her chest. The dragonfly, as if in thanks, buzzed around her head once before disappearing.\n",
      "\n",
      "The fishy scent was gone. The adventure was over.\n",
      "\n",
      "Exhausted but strangely invigorated, Clementine retraced her steps, navigating the fern forest and the prickly hedgehog with a newfound confidence. She slipped back through the crack in the door just as the sun began to set.\n",
      "\n",
      "The humans, still blissfully unaware of her escapade, were preparing dinner. Clementine rubbed against their legs, purring louder than usual. They scratched behind her ears, praising her for being such a \"good girl.\"\n",
      "\n",
      "Clementine knew better. She was no longer just a pampered house cat. She was a seasoned adventurer, a rescuer of goldfish, a guardian of the wild. And as she curled up in her favorite sunbeam, she dreamt of dragonflies, lily pads, and the faint, lingering scent of fish, a reminder of the extraordinary day she'd dared to have.\n",
      "\n"
     ]
    }
   ],
   "source": [
    "model_config = types.GenerateContentConfig(\n",
    "    # These are the default values for gemini-2.0-flash.\n",
    "    temperature=1.0,\n",
    "    top_p=0.95,\n",
    ")\n",
    "\n",
    "story_prompt = \"You are a creative writer. Write a short story about a cat who goes on an adventure.\"\n",
    "response = client.models.generate_content(\n",
    "    model='gemini-2.0-flash',\n",
    "    config=model_config,\n",
    "    contents=story_prompt)\n",
    "\n",
    "print(response.text)"
   ]
  },
  {
   "cell_type": "markdown",
   "id": "1b1d53fa",
   "metadata": {
    "id": "rMrYs1koY6DX",
    "papermill": {
     "duration": 0.014471,
     "end_time": "2025-03-30T20:18:46.387980",
     "exception": false,
     "start_time": "2025-03-30T20:18:46.373509",
     "status": "completed"
    },
    "tags": []
   },
   "source": [
    "## Prompting\n",
    "\n",
    "This section contains some prompts from the chapter for you to try out directly in the API. Try changing the text here to see how each prompt performs with different instructions, more examples, or any other changes you can think of."
   ]
  },
  {
   "cell_type": "markdown",
   "id": "dfa56d35",
   "metadata": {
    "id": "hhj_tQidZJP7",
    "papermill": {
     "duration": 0.013983,
     "end_time": "2025-03-30T20:18:46.415998",
     "exception": false,
     "start_time": "2025-03-30T20:18:46.402015",
     "status": "completed"
    },
    "tags": []
   },
   "source": [
    "### Zero-shot\n",
    "\n",
    "Zero-shot prompts are prompts that describe the request for the model directly.\n",
    "\n",
    "<table align=left>\n",
    "  <td>\n",
    "    <a target=\"_blank\" href=\"https://aistudio.google.com/prompts/1gzKKgDHwkAvexG5Up0LMtl1-6jKMKe4g\"><img src=\"https://ai.google.dev/site-assets/images/marketing/home/icon-ais.png\" style=\"height: 24px\" height=24/> Open in AI Studio</a>\n",
    "  </td>\n",
    "</table>"
   ]
  },
  {
   "cell_type": "code",
   "execution_count": 19,
   "id": "e0787872",
   "metadata": {
    "execution": {
     "iopub.execute_input": "2025-03-30T20:18:46.446721Z",
     "iopub.status.busy": "2025-03-30T20:18:46.446344Z",
     "iopub.status.idle": "2025-03-30T20:18:46.794435Z",
     "shell.execute_reply": "2025-03-30T20:18:46.793247Z"
    },
    "id": "1_t-cwnDZzbH",
    "papermill": {
     "duration": 0.365741,
     "end_time": "2025-03-30T20:18:46.796865",
     "exception": false,
     "start_time": "2025-03-30T20:18:46.431124",
     "status": "completed"
    },
    "tags": []
   },
   "outputs": [
    {
     "name": "stdout",
     "output_type": "stream",
     "text": [
      "POSITIVE\n",
      "\n"
     ]
    }
   ],
   "source": [
    "model_config = types.GenerateContentConfig(\n",
    "    temperature=0.1,\n",
    "    top_p=1,\n",
    "    max_output_tokens=5,\n",
    ")\n",
    "\n",
    "zero_shot_prompt = \"\"\"Classify movie reviews as POSITIVE, NEUTRAL or NEGATIVE.\n",
    "Review: \"Her\" is a disturbing study revealing the direction\n",
    "humanity is headed if AI is allowed to keep evolving,\n",
    "unchecked. I wish there were more movies like this masterpiece.\n",
    "Sentiment: \"\"\"\n",
    "\n",
    "response = client.models.generate_content(\n",
    "    model='gemini-2.0-flash',\n",
    "    config=model_config,\n",
    "    contents=zero_shot_prompt)\n",
    "\n",
    "print(response.text)"
   ]
  },
  {
   "cell_type": "markdown",
   "id": "200508da",
   "metadata": {
    "id": "3b5568bdeb11",
    "papermill": {
     "duration": 0.01373,
     "end_time": "2025-03-30T20:18:46.824903",
     "exception": false,
     "start_time": "2025-03-30T20:18:46.811173",
     "status": "completed"
    },
    "tags": []
   },
   "source": [
    "#### Enum mode\n",
    "\n",
    "The models are trained to generate text, and while the Gemini 2.0 models are great at following instructions, other models can sometimes produce more text than you may wish for. In the preceding example, the model will output the label, but sometimes it can include a preceding \"Sentiment\" label, and without an output token limit, it may also add explanatory text afterwards. See [this prompt in AI Studio](https://aistudio.google.com/prompts/1gzKKgDHwkAvexG5Up0LMtl1-6jKMKe4g) for an example.\n",
    "\n",
    "The Gemini API has an [Enum mode](https://github.com/google-gemini/cookbook/blob/main/quickstarts/Enum.ipynb) feature that allows you to constrain the output to a fixed set of values."
   ]
  },
  {
   "cell_type": "code",
   "execution_count": 20,
   "id": "cc660bd6",
   "metadata": {
    "execution": {
     "iopub.execute_input": "2025-03-30T20:18:46.855218Z",
     "iopub.status.busy": "2025-03-30T20:18:46.854374Z",
     "iopub.status.idle": "2025-03-30T20:18:47.312186Z",
     "shell.execute_reply": "2025-03-30T20:18:47.311086Z"
    },
    "id": "ad118a56c598",
    "papermill": {
     "duration": 0.475561,
     "end_time": "2025-03-30T20:18:47.314528",
     "exception": false,
     "start_time": "2025-03-30T20:18:46.838967",
     "status": "completed"
    },
    "tags": []
   },
   "outputs": [
    {
     "name": "stdout",
     "output_type": "stream",
     "text": [
      "positive\n"
     ]
    }
   ],
   "source": [
    "import enum\n",
    "\n",
    "class Sentiment(enum.Enum):\n",
    "    POSITIVE = \"positive\"\n",
    "    NEUTRAL = \"neutral\"\n",
    "    NEGATIVE = \"negative\"\n",
    "\n",
    "\n",
    "response = client.models.generate_content(\n",
    "    model='gemini-2.0-flash',\n",
    "    config=types.GenerateContentConfig(\n",
    "        response_mime_type=\"text/x.enum\",\n",
    "        response_schema=Sentiment\n",
    "    ),\n",
    "    contents=zero_shot_prompt)\n",
    "\n",
    "print(response.text)"
   ]
  },
  {
   "cell_type": "markdown",
   "id": "5fcfe5cd",
   "metadata": {
    "papermill": {
     "duration": 0.014352,
     "end_time": "2025-03-30T20:18:47.343835",
     "exception": false,
     "start_time": "2025-03-30T20:18:47.329483",
     "status": "completed"
    },
    "tags": []
   },
   "source": [
    "When using constrained output like an enum, the Python SDK will attempt to convert the model's text response into a Python object automatically. It's stored in the `response.parsed` field."
   ]
  },
  {
   "cell_type": "code",
   "execution_count": 21,
   "id": "7b30a6f8",
   "metadata": {
    "execution": {
     "iopub.execute_input": "2025-03-30T20:18:47.375461Z",
     "iopub.status.busy": "2025-03-30T20:18:47.374488Z",
     "iopub.status.idle": "2025-03-30T20:18:47.380182Z",
     "shell.execute_reply": "2025-03-30T20:18:47.379091Z"
    },
    "papermill": {
     "duration": 0.023684,
     "end_time": "2025-03-30T20:18:47.382350",
     "exception": false,
     "start_time": "2025-03-30T20:18:47.358666",
     "status": "completed"
    },
    "tags": []
   },
   "outputs": [
    {
     "name": "stdout",
     "output_type": "stream",
     "text": [
      "Sentiment.POSITIVE\n",
      "<enum 'Sentiment'>\n"
     ]
    }
   ],
   "source": [
    "enum_response = response.parsed\n",
    "print(enum_response)\n",
    "print(type(enum_response))"
   ]
  },
  {
   "cell_type": "markdown",
   "id": "f2fa4fbd",
   "metadata": {
    "id": "0udiSwNbv45W",
    "papermill": {
     "duration": 0.013871,
     "end_time": "2025-03-30T20:18:47.411444",
     "exception": false,
     "start_time": "2025-03-30T20:18:47.397573",
     "status": "completed"
    },
    "tags": []
   },
   "source": [
    "### One-shot and few-shot\n",
    "\n",
    "Providing an example of the expected response is known as a \"one-shot\" prompt. When you provide multiple examples, it is a \"few-shot\" prompt.\n",
    "\n",
    "<table align=left>\n",
    "  <td>\n",
    "    <a target=\"_blank\" href=\"https://aistudio.google.com/prompts/1jjWkjUSoMXmLvMJ7IzADr_GxHPJVV2bg\"><img src=\"https://ai.google.dev/site-assets/images/marketing/home/icon-ais.png\" style=\"height: 24px\" height=24/> Open in AI Studio</a>\n",
    "  </td>\n",
    "</table>\n"
   ]
  },
  {
   "cell_type": "code",
   "execution_count": 22,
   "id": "9d24a723",
   "metadata": {
    "execution": {
     "iopub.execute_input": "2025-03-30T20:18:47.442653Z",
     "iopub.status.busy": "2025-03-30T20:18:47.441550Z",
     "iopub.status.idle": "2025-03-30T20:18:47.981265Z",
     "shell.execute_reply": "2025-03-30T20:18:47.980052Z"
    },
    "id": "hd4mVUukwOKZ",
    "papermill": {
     "duration": 0.557376,
     "end_time": "2025-03-30T20:18:47.983610",
     "exception": false,
     "start_time": "2025-03-30T20:18:47.426234",
     "status": "completed"
    },
    "tags": []
   },
   "outputs": [
    {
     "name": "stdout",
     "output_type": "stream",
     "text": [
      "```json\n",
      "{\n",
      "\"size\": \"large\",\n",
      "\"type\": \"normal\",\n",
      "\"ingredients\": [\"cheese\", \"pineapple\"]\n",
      "}\n",
      "```\n",
      "\n"
     ]
    }
   ],
   "source": [
    "few_shot_prompt = \"\"\"Parse a customer's pizza order into valid JSON:\n",
    "\n",
    "EXAMPLE:\n",
    "I want a small pizza with cheese, tomato sauce, and pepperoni.\n",
    "JSON Response:\n",
    "```\n",
    "{\n",
    "\"size\": \"small\",\n",
    "\"type\": \"normal\",\n",
    "\"ingredients\": [\"cheese\", \"tomato sauce\", \"pepperoni\"]\n",
    "}\n",
    "```\n",
    "\n",
    "EXAMPLE:\n",
    "Can I get a large pizza with tomato sauce, basil and mozzarella\n",
    "JSON Response:\n",
    "```\n",
    "{\n",
    "\"size\": \"large\",\n",
    "\"type\": \"normal\",\n",
    "\"ingredients\": [\"tomato sauce\", \"basil\", \"mozzarella\"]\n",
    "}\n",
    "```\n",
    "\n",
    "ORDER:\n",
    "\"\"\"\n",
    "\n",
    "customer_order = \"Give me a large with cheese & pineapple\"\n",
    "\n",
    "response = client.models.generate_content(\n",
    "    model='gemini-2.0-flash',\n",
    "    config=types.GenerateContentConfig(\n",
    "        temperature=0.1,\n",
    "        top_p=1,\n",
    "        max_output_tokens=250,\n",
    "    ),\n",
    "    contents=[few_shot_prompt, customer_order])\n",
    "\n",
    "print(response.text)"
   ]
  },
  {
   "cell_type": "markdown",
   "id": "89909325",
   "metadata": {
    "id": "021293096f08",
    "papermill": {
     "duration": 0.015161,
     "end_time": "2025-03-30T20:18:48.013373",
     "exception": false,
     "start_time": "2025-03-30T20:18:47.998212",
     "status": "completed"
    },
    "tags": []
   },
   "source": [
    "#### JSON mode\n",
    "\n",
    "To provide control over the schema, and to ensure that you only receive JSON (with no other text or markdown), you can use the Gemini API's [JSON mode](https://github.com/google-gemini/cookbook/blob/main/quickstarts/JSON_mode.ipynb). This forces the model to constrain decoding, such that token selection is guided by the supplied schema."
   ]
  },
  {
   "cell_type": "code",
   "execution_count": 23,
   "id": "979a78cc",
   "metadata": {
    "execution": {
     "iopub.execute_input": "2025-03-30T20:18:48.044196Z",
     "iopub.status.busy": "2025-03-30T20:18:48.043789Z",
     "iopub.status.idle": "2025-03-30T20:18:48.681576Z",
     "shell.execute_reply": "2025-03-30T20:18:48.680430Z"
    },
    "id": "50fbf0260912",
    "papermill": {
     "duration": 0.655857,
     "end_time": "2025-03-30T20:18:48.683974",
     "exception": false,
     "start_time": "2025-03-30T20:18:48.028117",
     "status": "completed"
    },
    "tags": []
   },
   "outputs": [
    {
     "name": "stdout",
     "output_type": "stream",
     "text": [
      "{\n",
      "  \"size\": \"large\",\n",
      "  \"ingredients\": [\"apple\", \"chocolate\"],\n",
      "  \"type\": \"dessert\"\n",
      "}\n"
     ]
    }
   ],
   "source": [
    "import typing_extensions as typing\n",
    "\n",
    "class PizzaOrder(typing.TypedDict):\n",
    "    size: str\n",
    "    ingredients: list[str]\n",
    "    type: str\n",
    "\n",
    "\n",
    "response = client.models.generate_content(\n",
    "    model='gemini-2.0-flash',\n",
    "    config=types.GenerateContentConfig(\n",
    "        temperature=0.1,\n",
    "        response_mime_type=\"application/json\",\n",
    "        response_schema=PizzaOrder,\n",
    "    ),\n",
    "    contents=\"Can I have a large dessert pizza with apple and chocolate\")\n",
    "\n",
    "print(response.text)"
   ]
  },
  {
   "cell_type": "markdown",
   "id": "c470b6d8",
   "metadata": {
    "id": "4a93e338e57c",
    "papermill": {
     "duration": 0.014094,
     "end_time": "2025-03-30T20:18:48.712718",
     "exception": false,
     "start_time": "2025-03-30T20:18:48.698624",
     "status": "completed"
    },
    "tags": []
   },
   "source": [
    "### Chain of Thought (CoT)\n",
    "\n",
    "Direct prompting on LLMs can return answers quickly and (in terms of output token usage) efficiently, but they can be prone to hallucination. The answer may \"look\" correct (in terms of language and syntax) but is incorrect in terms of factuality and reasoning.\n",
    "\n",
    "Chain-of-Thought prompting is a technique where you instruct the model to output intermediate reasoning steps, and it typically gets better results, especially when combined with few-shot examples. It is worth noting that this technique doesn't completely eliminate hallucinations, and that it tends to cost more to run, due to the increased token count.\n",
    "\n",
    "Models like the Gemini family are trained to be \"chatty\" or \"thoughtful\" and will provide reasoning steps without prompting, so for this simple example you can ask the model to be more direct in the prompt to force a non-reasoning response. Try re-running this step if the model gets lucky and gets the answer correct on the first try."
   ]
  },
  {
   "cell_type": "code",
   "execution_count": 24,
   "id": "2a9c421e",
   "metadata": {
    "execution": {
     "iopub.execute_input": "2025-03-30T20:18:48.743105Z",
     "iopub.status.busy": "2025-03-30T20:18:48.742723Z",
     "iopub.status.idle": "2025-03-30T20:18:49.076478Z",
     "shell.execute_reply": "2025-03-30T20:18:49.075330Z"
    },
    "id": "5715555db1c1",
    "papermill": {
     "duration": 0.351805,
     "end_time": "2025-03-30T20:18:49.078907",
     "exception": false,
     "start_time": "2025-03-30T20:18:48.727102",
     "status": "completed"
    },
    "tags": []
   },
   "outputs": [
    {
     "name": "stdout",
     "output_type": "stream",
     "text": [
      "48\n",
      "\n"
     ]
    }
   ],
   "source": [
    "prompt = \"\"\"When I was 4 years old, my partner was 3 times my age. Now, I\n",
    "am 20 years old. How old is my partner? Return the answer directly.\"\"\"\n",
    "\n",
    "response = client.models.generate_content(\n",
    "    model='gemini-2.0-flash',\n",
    "    contents=prompt)\n",
    "\n",
    "print(response.text)"
   ]
  },
  {
   "cell_type": "markdown",
   "id": "283aa286",
   "metadata": {
    "id": "e12b19677bfd",
    "papermill": {
     "duration": 0.014247,
     "end_time": "2025-03-30T20:18:49.107813",
     "exception": false,
     "start_time": "2025-03-30T20:18:49.093566",
     "status": "completed"
    },
    "tags": []
   },
   "source": [
    "Now try the same approach, but indicate to the model that it should \"think step by step\"."
   ]
  },
  {
   "cell_type": "code",
   "execution_count": 25,
   "id": "ff74c486",
   "metadata": {
    "execution": {
     "iopub.execute_input": "2025-03-30T20:18:49.138832Z",
     "iopub.status.busy": "2025-03-30T20:18:49.138399Z",
     "iopub.status.idle": "2025-03-30T20:18:49.993762Z",
     "shell.execute_reply": "2025-03-30T20:18:49.992697Z"
    },
    "id": "ffd7536a481f",
    "papermill": {
     "duration": 0.873001,
     "end_time": "2025-03-30T20:18:49.995806",
     "exception": false,
     "start_time": "2025-03-30T20:18:49.122805",
     "status": "completed"
    },
    "tags": []
   },
   "outputs": [
    {
     "data": {
      "text/markdown": [
       "Here's how to solve the problem step-by-step:\n",
       "\n",
       "1.  **Find the age difference:** When you were 4, your partner was 3 times your age, meaning they were 4 * 3 = 12 years old. The age difference between you and your partner is 12 - 4 = 8 years.\n",
       "\n",
       "2.  **Calculate your partner's current age:** Since the age difference remains the same, your partner is always 8 years older than you. Now that you are 20, your partner is 20 + 8 = 28 years old.\n",
       "\n",
       "**Answer:** Your partner is currently 28 years old."
      ],
      "text/plain": [
       "<IPython.core.display.Markdown object>"
      ]
     },
     "execution_count": 25,
     "metadata": {},
     "output_type": "execute_result"
    }
   ],
   "source": [
    "prompt = \"\"\"When I was 4 years old, my partner was 3 times my age. Now,\n",
    "I am 20 years old. How old is my partner? Let's think step by step.\"\"\"\n",
    "\n",
    "response = client.models.generate_content(\n",
    "    model='gemini-2.0-flash',\n",
    "    contents=prompt)\n",
    "\n",
    "Markdown(response.text)"
   ]
  },
  {
   "cell_type": "markdown",
   "id": "115f7af6",
   "metadata": {
    "id": "oiLgBQJj0V53",
    "papermill": {
     "duration": 0.014097,
     "end_time": "2025-03-30T20:18:50.024458",
     "exception": false,
     "start_time": "2025-03-30T20:18:50.010361",
     "status": "completed"
    },
    "tags": []
   },
   "source": [
    "### ReAct: Reason and act\n",
    "\n",
    "In this example you will run a ReAct prompt directly in the Gemini API and perform the searching steps yourself. As this prompt follows a well-defined structure, there are frameworks available that wrap the prompt into easier-to-use APIs that make tool calls automatically, such as the LangChain example from the \"Prompting\" whitepaper.\n",
    "\n",
    "To try this out with the Wikipedia search engine, check out the [Searching Wikipedia with ReAct](https://github.com/google-gemini/cookbook/blob/main/examples/Search_Wikipedia_using_ReAct.ipynb) cookbook example.\n",
    "\n",
    "\n",
    "> Note: The prompt and in-context examples used here are from [https://github.com/ysymyth/ReAct](https://github.com/ysymyth/ReAct) which is published under an [MIT license](https://opensource.org/licenses/MIT), Copyright (c) 2023 Shunyu Yao.\n",
    "\n",
    "<table align=left>\n",
    "  <td>\n",
    "    <a target=\"_blank\" href=\"https://aistudio.google.com/prompts/18oo63Lwosd-bQ6Ay51uGogB3Wk3H8XMO\"><img src=\"https://ai.google.dev/site-assets/images/marketing/home/icon-ais.png\" style=\"height: 24px\" height=24/> Open in AI Studio</a>\n",
    "  </td>\n",
    "</table>\n"
   ]
  },
  {
   "cell_type": "code",
   "execution_count": 26,
   "id": "c64c4c0c",
   "metadata": {
    "execution": {
     "iopub.execute_input": "2025-03-30T20:18:50.054910Z",
     "iopub.status.busy": "2025-03-30T20:18:50.054508Z",
     "iopub.status.idle": "2025-03-30T20:18:50.061410Z",
     "shell.execute_reply": "2025-03-30T20:18:50.060341Z"
    },
    "id": "cBgyNJ5z0VSs",
    "papermill": {
     "duration": 0.024667,
     "end_time": "2025-03-30T20:18:50.063411",
     "exception": false,
     "start_time": "2025-03-30T20:18:50.038744",
     "status": "completed"
    },
    "tags": []
   },
   "outputs": [],
   "source": [
    "model_instructions = \"\"\"\n",
    "Solve a question answering task with interleaving Thought, Action, Observation steps. Thought can reason about the current situation,\n",
    "Observation is understanding relevant information from an Action's output and Action can be one of three types:\n",
    " (1) <search>entity</search>, which searches the exact entity on Wikipedia and returns the first paragraph if it exists. If not, it\n",
    "     will return some similar entities to search and you can try to search the information from those topics.\n",
    " (2) <lookup>keyword</lookup>, which returns the next sentence containing keyword in the current context. This only does exact matches,\n",
    "     so keep your searches short.\n",
    " (3) <finish>answer</finish>, which returns the answer and finishes the task.\n",
    "\"\"\"\n",
    "\n",
    "example1 = \"\"\"Question\n",
    "Musician and satirist Allie Goertz wrote a song about the \"The Simpsons\" character Milhouse, who Matt Groening named after who?\n",
    "\n",
    "Thought 1\n",
    "The question simplifies to \"The Simpsons\" character Milhouse is named after who. I only need to search Milhouse and find who it is named after.\n",
    "\n",
    "Action 1\n",
    "<search>Milhouse</search>\n",
    "\n",
    "Observation 1\n",
    "Milhouse Mussolini Van Houten is a recurring character in the Fox animated television series The Simpsons voiced by Pamela Hayden and created by Matt Groening.\n",
    "\n",
    "Thought 2\n",
    "The paragraph does not tell who Milhouse is named after, maybe I can look up \"named after\".\n",
    "\n",
    "Action 2\n",
    "<lookup>named after</lookup>\n",
    "\n",
    "Observation 2\n",
    "Milhouse was named after U.S. president Richard Nixon, whose middle name was Milhous.\n",
    "\n",
    "Thought 3\n",
    "Milhouse was named after U.S. president Richard Nixon, so the answer is Richard Nixon.\n",
    "\n",
    "Action 3\n",
    "<finish>Richard Nixon</finish>\n",
    "\"\"\"\n",
    "\n",
    "example2 = \"\"\"Question\n",
    "What is the elevation range for the area that the eastern sector of the Colorado orogeny extends into?\n",
    "\n",
    "Thought 1\n",
    "I need to search Colorado orogeny, find the area that the eastern sector of the Colorado orogeny extends into, then find the elevation range of the area.\n",
    "\n",
    "Action 1\n",
    "<search>Colorado orogeny</search>\n",
    "\n",
    "Observation 1\n",
    "The Colorado orogeny was an episode of mountain building (an orogeny) in Colorado and surrounding areas.\n",
    "\n",
    "Thought 2\n",
    "It does not mention the eastern sector. So I need to look up eastern sector.\n",
    "\n",
    "Action 2\n",
    "<lookup>eastern sector</lookup>\n",
    "\n",
    "Observation 2\n",
    "The eastern sector extends into the High Plains and is called the Central Plains orogeny.\n",
    "\n",
    "Thought 3\n",
    "The eastern sector of Colorado orogeny extends into the High Plains. So I need to search High Plains and find its elevation range.\n",
    "\n",
    "Action 3\n",
    "<search>High Plains</search>\n",
    "\n",
    "Observation 3\n",
    "High Plains refers to one of two distinct land regions\n",
    "\n",
    "Thought 4\n",
    "I need to instead search High Plains (United States).\n",
    "\n",
    "Action 4\n",
    "<search>High Plains (United States)</search>\n",
    "\n",
    "Observation 4\n",
    "The High Plains are a subregion of the Great Plains. From east to west, the High Plains rise in elevation from around 1,800 to 7,000 ft (550 to 2,130m).\n",
    "\n",
    "Thought 5\n",
    "High Plains rise in elevation from around 1,800 to 7,000 ft, so the answer is 1,800 to 7,000 ft.\n",
    "\n",
    "Action 5\n",
    "<finish>1,800 to 7,000 ft</finish>\n",
    "\"\"\"\n",
    "\n",
    "# Come up with more examples yourself, or take a look through https://github.com/ysymyth/ReAct/"
   ]
  },
  {
   "cell_type": "markdown",
   "id": "84bacf9a",
   "metadata": {
    "id": "C3wbfstjTgey",
    "papermill": {
     "duration": 0.014003,
     "end_time": "2025-03-30T20:18:50.092005",
     "exception": false,
     "start_time": "2025-03-30T20:18:50.078002",
     "status": "completed"
    },
    "tags": []
   },
   "source": [
    "To capture a single step at a time, while ignoring any hallucinated Observation steps, you will use `stop_sequences` to end the generation process. The steps are `Thought`, `Action`, `Observation`, in that order."
   ]
  },
  {
   "cell_type": "code",
   "execution_count": 27,
   "id": "a301a248",
   "metadata": {
    "execution": {
     "iopub.execute_input": "2025-03-30T20:18:50.122464Z",
     "iopub.status.busy": "2025-03-30T20:18:50.122069Z",
     "iopub.status.idle": "2025-03-30T20:18:50.670698Z",
     "shell.execute_reply": "2025-03-30T20:18:50.669041Z"
    },
    "id": "8mxrXRkRTdXm",
    "papermill": {
     "duration": 0.56657,
     "end_time": "2025-03-30T20:18:50.673020",
     "exception": false,
     "start_time": "2025-03-30T20:18:50.106450",
     "status": "completed"
    },
    "tags": []
   },
   "outputs": [
    {
     "name": "stdout",
     "output_type": "stream",
     "text": [
      "Thought 1\n",
      "I need to find the transformers NLP paper and then identify the youngest author listed on that paper.\n",
      "\n",
      "Action 1\n",
      "<search>transformers NLP paper</search>\n",
      "\n"
     ]
    }
   ],
   "source": [
    "question = \"\"\"Question\n",
    "Who was the youngest author listed on the transformers NLP paper?\n",
    "\"\"\"\n",
    "\n",
    "# You will perform the Action; so generate up to, but not including, the Observation.\n",
    "react_config = types.GenerateContentConfig(\n",
    "    stop_sequences=[\"\\nObservation\"],\n",
    "    system_instruction=model_instructions + example1 + example2,\n",
    ")\n",
    "\n",
    "# Create a chat that has the model instructions and examples pre-seeded.\n",
    "react_chat = client.chats.create(\n",
    "    model='gemini-2.0-flash',\n",
    "    config=react_config,\n",
    ")\n",
    "\n",
    "resp = react_chat.send_message(question)\n",
    "print(resp.text)"
   ]
  },
  {
   "cell_type": "markdown",
   "id": "3743ae05",
   "metadata": {
    "id": "aW2PIdLbVv3l",
    "papermill": {
     "duration": 0.014276,
     "end_time": "2025-03-30T20:18:50.702099",
     "exception": false,
     "start_time": "2025-03-30T20:18:50.687823",
     "status": "completed"
    },
    "tags": []
   },
   "source": [
    "Now you can perform this research yourself and supply it back to the model."
   ]
  },
  {
   "cell_type": "code",
   "execution_count": 28,
   "id": "c7a8f254",
   "metadata": {
    "execution": {
     "iopub.execute_input": "2025-03-30T20:18:50.732993Z",
     "iopub.status.busy": "2025-03-30T20:18:50.732600Z",
     "iopub.status.idle": "2025-03-30T20:18:51.353092Z",
     "shell.execute_reply": "2025-03-30T20:18:51.351903Z"
    },
    "id": "mLMc0DZaV9g2",
    "papermill": {
     "duration": 0.638678,
     "end_time": "2025-03-30T20:18:51.355689",
     "exception": false,
     "start_time": "2025-03-30T20:18:50.717011",
     "status": "completed"
    },
    "tags": []
   },
   "outputs": [
    {
     "name": "stdout",
     "output_type": "stream",
     "text": [
      "Thought 2\n",
      "I have the authors of the paper: Ashish Vaswani, Noam Shazeer, Niki Parmar, Jakob Uszkoreit, Llion Jones, Aidan N. Gomez, Lukasz Kaiser, Illia Polosukhin. I need to find the birthdates of each of these authors to determine who is the youngest.\n",
      "\n",
      "Action 2\n",
      "<search>Ashish Vaswani birthdate</search>\n",
      "\n"
     ]
    }
   ],
   "source": [
    "observation = \"\"\"Observation 1\n",
    "[1706.03762] Attention Is All You Need\n",
    "Ashish Vaswani, Noam Shazeer, Niki Parmar, Jakob Uszkoreit, Llion Jones, Aidan N. Gomez, Lukasz Kaiser, Illia Polosukhin\n",
    "We propose a new simple network architecture, the Transformer, based solely on attention mechanisms, dispensing with recurrence and convolutions entirely.\n",
    "\"\"\"\n",
    "resp = react_chat.send_message(observation)\n",
    "print(resp.text)"
   ]
  },
  {
   "cell_type": "markdown",
   "id": "59590c3e",
   "metadata": {
    "id": "bo0tzf4nX6dA",
    "papermill": {
     "duration": 0.014791,
     "end_time": "2025-03-30T20:18:51.385360",
     "exception": false,
     "start_time": "2025-03-30T20:18:51.370569",
     "status": "completed"
    },
    "tags": []
   },
   "source": [
    "This process repeats until the `<finish>` action is reached. You can continue running this yourself if you like, or try the [Wikipedia example](https://github.com/google-gemini/cookbook/blob/main/examples/Search_Wikipedia_using_ReAct.ipynb) to see a fully automated ReAct system at work."
   ]
  },
  {
   "cell_type": "markdown",
   "id": "143b56e0",
   "metadata": {
    "papermill": {
     "duration": 0.015336,
     "end_time": "2025-03-30T20:18:51.416819",
     "exception": false,
     "start_time": "2025-03-30T20:18:51.401483",
     "status": "completed"
    },
    "tags": []
   },
   "source": [
    "## Thinking mode\n",
    "\n",
    "The experiemental Gemini Flash 2.0 \"Thinking\" model has been trained to generate the \"thinking process\" the model goes through as part of its response. As a result, the Flash Thinking model is capable of stronger reasoning capabilities in its responses.\n",
    "\n",
    "Using a \"thinking mode\" model can provide you with high-quality responses without needing specialised prompting like the previous approaches. One reason this technique is effective is that you induce the model to generate relevant information (\"brainstorming\", or \"thoughts\") that is then used as part of the context in which the final response is generated.\n",
    "\n",
    "Note that when you use the API, you get the final response from the model, but the thoughts are not captured. To see the intermediate thoughts, try out [the thinking mode model in AI Studio](https://aistudio.google.com/prompts/new_chat?model=gemini-2.0-flash-thinking-exp-01-21).\n",
    "\n",
    "<table align=left>\n",
    "  <td>\n",
    "    <a target=\"_blank\" href=\"https://aistudio.google.com/prompts/1Z991SV7lZZZqioOiqIUPv9a9ix-ws4zk\"><img src=\"https://ai.google.dev/site-assets/images/marketing/home/icon-ais.png\" style=\"height: 24px\" height=24/> Open in AI Studio</a>\n",
    "  </td>\n",
    "</table>"
   ]
  },
  {
   "cell_type": "code",
   "execution_count": 29,
   "id": "11817cde",
   "metadata": {
    "execution": {
     "iopub.execute_input": "2025-03-30T20:18:51.448447Z",
     "iopub.status.busy": "2025-03-30T20:18:51.448043Z",
     "iopub.status.idle": "2025-03-30T20:18:58.910515Z",
     "shell.execute_reply": "2025-03-30T20:18:58.909303Z"
    },
    "papermill": {
     "duration": 7.48134,
     "end_time": "2025-03-30T20:18:58.913117",
     "exception": false,
     "start_time": "2025-03-30T20:18:51.431777",
     "status": "completed"
    },
    "tags": []
   },
   "outputs": [
    {
     "data": {
      "text/markdown": [
       "Based on the information available online and in the \"Attention is All You Need\" paper (which is widely considered the foundational \"transformers NLP paper\"), **Aidan N. Gomez** is likely the youngest author listed.\n",
       "\n",
       "Here's why:\n",
       "\n",
       "* **Aidan N. Gomez** was a PhD student at the University of Toronto at the time of the paper's publication in 2017.  PhD students are generally younger than established researchers and professors.  His affiliation at the time was listed as the University of Toronto.\n",
       "* The other authors were affiliated with Google Brain and Google Research, which generally indicates more established researchers. While age isn't solely determined by affiliation, researchers at Google Brain and Google Research are typically further along in their careers than PhD students.\n",
       "\n",
       "**While we don't have exact birthdates for all authors to definitively say who was the absolute youngest, Aidan N. Gomez being a PhD student at the time makes him the most probable youngest author on the list.**\n",
       "\n",
       "The authors of the \"Attention is All You Need\" paper are:\n",
       "\n",
       "* **Ashish Vaswani**\n",
       "* **Noam Shazeer**\n",
       "* **Niki Parmar**\n",
       "* **Jakob Uszkoreit**\n",
       "* **Llion Jones**\n",
       "* **Aidan N. Gomez**\n",
       "* **Łukasz Kaiser**\n",
       "* **Illia Polosukhin**\n",
       "\n",
       "To be absolutely certain, one would need to find the birthdates of each author, which isn't typically public information. However, based on common career trajectories in academia and research, **Aidan N. Gomez is the most likely answer.**"
      ],
      "text/plain": [
       "<IPython.core.display.Markdown object>"
      ]
     },
     "execution_count": 29,
     "metadata": {},
     "output_type": "execute_result"
    }
   ],
   "source": [
    "import io\n",
    "from IPython.display import Markdown, clear_output\n",
    "\n",
    "\n",
    "response = client.models.generate_content_stream(\n",
    "    model='gemini-2.0-flash-thinking-exp',\n",
    "    contents='Who was the youngest author listed on the transformers NLP paper?',\n",
    ")\n",
    "\n",
    "buf = io.StringIO()\n",
    "for chunk in response:\n",
    "    buf.write(chunk.text)\n",
    "    # Display the response as it is streamed\n",
    "    print(chunk.text, end='')\n",
    "\n",
    "# And then render the finished response as formatted markdown.\n",
    "clear_output()\n",
    "Markdown(buf.getvalue())"
   ]
  },
  {
   "cell_type": "markdown",
   "id": "3ed815f1",
   "metadata": {
    "id": "jPiZ_eIIaVPt",
    "papermill": {
     "duration": 0.014496,
     "end_time": "2025-03-30T20:18:58.942658",
     "exception": false,
     "start_time": "2025-03-30T20:18:58.928162",
     "status": "completed"
    },
    "tags": []
   },
   "source": [
    "## Code prompting"
   ]
  },
  {
   "cell_type": "markdown",
   "id": "a44d8642",
   "metadata": {
    "id": "ZinKamwXeR6C",
    "papermill": {
     "duration": 0.014723,
     "end_time": "2025-03-30T20:18:58.972033",
     "exception": false,
     "start_time": "2025-03-30T20:18:58.957310",
     "status": "completed"
    },
    "tags": []
   },
   "source": [
    "### Generating code\n",
    "\n",
    "The Gemini family of models can be used to generate code, configuration and scripts. Generating code can be helpful when learning to code, learning a new language or for rapidly generating a first draft.\n",
    "\n",
    "It's important to be aware that since LLMs can make mistakes, and can repeat training data, it's essential to read and test your code first, and comply with any relevant licenses.\n",
    "\n",
    "<table align=left>\n",
    "  <td>\n",
    "    <a target=\"_blank\" href=\"https://aistudio.google.com/prompts/1YX71JGtzDjXQkgdes8bP6i3oH5lCRKxv\"><img src=\"https://ai.google.dev/site-assets/images/marketing/home/icon-ais.png\" style=\"height: 24px\" height=24/> Open in AI Studio</a>\n",
    "  </td>\n",
    "</table>"
   ]
  },
  {
   "cell_type": "code",
   "execution_count": 30,
   "id": "2f451340",
   "metadata": {
    "execution": {
     "iopub.execute_input": "2025-03-30T20:18:59.004139Z",
     "iopub.status.busy": "2025-03-30T20:18:59.003777Z",
     "iopub.status.idle": "2025-03-30T20:18:59.576986Z",
     "shell.execute_reply": "2025-03-30T20:18:59.575762Z"
    },
    "id": "fOQP9pqmeUO1",
    "papermill": {
     "duration": 0.591955,
     "end_time": "2025-03-30T20:18:59.579363",
     "exception": false,
     "start_time": "2025-03-30T20:18:58.987408",
     "status": "completed"
    },
    "tags": []
   },
   "outputs": [
    {
     "data": {
      "text/markdown": [
       "```python\n",
       "def factorial(n):\n",
       "  \"\"\"Calculate the factorial of a number.\"\"\"\n",
       "  if n == 0:\n",
       "    return 1\n",
       "  else:\n",
       "    return n * factorial(n-1)\n",
       "```\n"
      ],
      "text/plain": [
       "<IPython.core.display.Markdown object>"
      ]
     },
     "execution_count": 30,
     "metadata": {},
     "output_type": "execute_result"
    }
   ],
   "source": [
    "# The Gemini models love to talk, so it helps to specify they stick to the code if that\n",
    "# is all that you want.\n",
    "code_prompt = \"\"\"\n",
    "Write a Python function to calculate the factorial of a number. No explanation, provide only the code.\n",
    "\"\"\"\n",
    "\n",
    "response = client.models.generate_content(\n",
    "    model='gemini-2.0-flash',\n",
    "    config=types.GenerateContentConfig(\n",
    "        temperature=1,\n",
    "        top_p=1,\n",
    "        max_output_tokens=1024,\n",
    "    ),\n",
    "    contents=code_prompt)\n",
    "\n",
    "Markdown(response.text)"
   ]
  },
  {
   "cell_type": "markdown",
   "id": "20dc9ec0",
   "metadata": {
    "id": "wlBMWSFhgVRQ",
    "papermill": {
     "duration": 0.014509,
     "end_time": "2025-03-30T20:18:59.609454",
     "exception": false,
     "start_time": "2025-03-30T20:18:59.594945",
     "status": "completed"
    },
    "tags": []
   },
   "source": [
    "### Code execution\n",
    "\n",
    "The Gemini API can automatically run generated code too, and will return the output.\n",
    "\n",
    "<table align=left>\n",
    "  <td>\n",
    "    <a target=\"_blank\" href=\"https://aistudio.google.com/prompts/11veFr_VYEwBWcLkhNLr-maCG0G8sS_7Z\"><img src=\"https://ai.google.dev/site-assets/images/marketing/home/icon-ais.png\" style=\"height: 24px\" height=24/> Open in AI Studio</a>\n",
    "  </td>\n",
    "</table>"
   ]
  },
  {
   "cell_type": "code",
   "execution_count": 31,
   "id": "5927362b",
   "metadata": {
    "execution": {
     "iopub.execute_input": "2025-03-30T20:18:59.641659Z",
     "iopub.status.busy": "2025-03-30T20:18:59.641230Z",
     "iopub.status.idle": "2025-03-30T20:19:01.578621Z",
     "shell.execute_reply": "2025-03-30T20:19:01.577498Z"
    },
    "id": "jT3OfWYfhjRL",
    "papermill": {
     "duration": 1.956985,
     "end_time": "2025-03-30T20:19:01.581381",
     "exception": false,
     "start_time": "2025-03-30T20:18:59.624396",
     "status": "completed"
    },
    "tags": []
   },
   "outputs": [
    {
     "name": "stdout",
     "output_type": "stream",
     "text": [
      "{'text': 'Okay, I can do that. First, I need to generate the first 14 odd '\n",
      "         'prime numbers. Remember that a prime number is a number greater than '\n",
      "         '1 that has only two divisors: 1 and itself. Also, note that 2 is the '\n",
      "         'only even prime number.\\n'\n",
      "         '\\n'\n",
      "         \"Here's how I'll approach this:\\n\"\n",
      "         '\\n'\n",
      "         '1.  List prime numbers, starting from 3, until I have 14 odd prime '\n",
      "         'numbers.\\n'\n",
      "         '2.  Calculate the sum of these 14 numbers.\\n'\n",
      "         '\\n'}\n",
      "-----\n",
      "{'executable_code': {'code': 'primes = [3, 5, 7, 11, 13, 17, 19, 23, 29, 31, '\n",
      "                             '37, 41, 43, 47]\\n'\n",
      "                             \"print(f'{primes=}')\\n\"\n",
      "                             '\\n'\n",
      "                             'import numpy as np\\n'\n",
      "                             'sum_primes = np.sum(primes)\\n'\n",
      "                             \"print(f'{sum_primes=}')\\n\",\n",
      "                     'language': 'PYTHON'}}\n",
      "-----\n",
      "{'code_execution_result': {'outcome': 'OUTCOME_OK',\n",
      "                           'output': 'primes=[3, 5, 7, 11, 13, 17, 19, 23, 29, '\n",
      "                                     '31, 37, 41, 43, 47]\\n'\n",
      "                                     'sum_primes=np.int64(326)\\n'}}\n",
      "-----\n",
      "{'text': 'The first 14 odd prime numbers are 3, 5, 7, 11, 13, 17, 19, 23, 29, '\n",
      "         '31, 37, 41, 43, and 47.\\n'\n",
      "         '\\n'\n",
      "         'Their sum is 326.\\n'}\n",
      "-----\n"
     ]
    }
   ],
   "source": [
    "from pprint import pprint\n",
    "\n",
    "config = types.GenerateContentConfig(\n",
    "    tools=[types.Tool(code_execution=types.ToolCodeExecution())],\n",
    ")\n",
    "\n",
    "code_exec_prompt = \"\"\"\n",
    "Generate the first 14 odd prime numbers, then calculate their sum.\n",
    "\"\"\"\n",
    "\n",
    "response = client.models.generate_content(\n",
    "    model='gemini-2.0-flash',\n",
    "    config=config,\n",
    "    contents=code_exec_prompt)\n",
    "\n",
    "for part in response.candidates[0].content.parts:\n",
    "  pprint(part.to_json_dict())\n",
    "  print(\"-----\")"
   ]
  },
  {
   "cell_type": "markdown",
   "id": "ea29787a",
   "metadata": {
    "id": "ZspT1GSkjG6d",
    "papermill": {
     "duration": 0.014902,
     "end_time": "2025-03-30T20:19:01.612395",
     "exception": false,
     "start_time": "2025-03-30T20:19:01.597493",
     "status": "completed"
    },
    "tags": []
   },
   "source": [
    "This response contains multiple parts, including an opening and closing text part that represent regular responses, an `executable_code` part that represents generated code and a `code_execution_result` part that represents the results from running the generated code.\n",
    "\n",
    "You can explore them individually."
   ]
  },
  {
   "cell_type": "code",
   "execution_count": 32,
   "id": "9200b7dd",
   "metadata": {
    "execution": {
     "iopub.execute_input": "2025-03-30T20:19:01.645760Z",
     "iopub.status.busy": "2025-03-30T20:19:01.645080Z",
     "iopub.status.idle": "2025-03-30T20:19:01.659771Z",
     "shell.execute_reply": "2025-03-30T20:19:01.658697Z"
    },
    "papermill": {
     "duration": 0.033945,
     "end_time": "2025-03-30T20:19:01.661869",
     "exception": false,
     "start_time": "2025-03-30T20:19:01.627924",
     "status": "completed"
    },
    "tags": []
   },
   "outputs": [
    {
     "data": {
      "text/markdown": [
       "Okay, I can do that. First, I need to generate the first 14 odd prime numbers. Remember that a prime number is a number greater than 1 that has only two divisors: 1 and itself. Also, note that 2 is the only even prime number.\n",
       "\n",
       "Here's how I'll approach this:\n",
       "\n",
       "1.  List prime numbers, starting from 3, until I have 14 odd prime numbers.\n",
       "2.  Calculate the sum of these 14 numbers.\n",
       "\n"
      ],
      "text/plain": [
       "<IPython.core.display.Markdown object>"
      ]
     },
     "metadata": {},
     "output_type": "display_data"
    },
    {
     "data": {
      "text/markdown": [
       "```python\n",
       "primes = [3, 5, 7, 11, 13, 17, 19, 23, 29, 31, 37, 41, 43, 47]\n",
       "print(f'{primes=}')\n",
       "\n",
       "import numpy as np\n",
       "sum_primes = np.sum(primes)\n",
       "print(f'{sum_primes=}')\n",
       "\n",
       "```"
      ],
      "text/plain": [
       "<IPython.core.display.Markdown object>"
      ]
     },
     "metadata": {},
     "output_type": "display_data"
    },
    {
     "data": {
      "text/markdown": [
       "```\n",
       "primes=[3, 5, 7, 11, 13, 17, 19, 23, 29, 31, 37, 41, 43, 47]\n",
       "sum_primes=np.int64(326)\n",
       "\n",
       "```"
      ],
      "text/plain": [
       "<IPython.core.display.Markdown object>"
      ]
     },
     "metadata": {},
     "output_type": "display_data"
    },
    {
     "data": {
      "text/markdown": [
       "The first 14 odd prime numbers are 3, 5, 7, 11, 13, 17, 19, 23, 29, 31, 37, 41, 43, and 47.\n",
       "\n",
       "Their sum is 326.\n"
      ],
      "text/plain": [
       "<IPython.core.display.Markdown object>"
      ]
     },
     "metadata": {},
     "output_type": "display_data"
    }
   ],
   "source": [
    "for part in response.candidates[0].content.parts:\n",
    "    if part.text:\n",
    "        display(Markdown(part.text))\n",
    "    elif part.executable_code:\n",
    "        display(Markdown(f'```python\\n{part.executable_code.code}\\n```'))\n",
    "    elif part.code_execution_result:\n",
    "        if part.code_execution_result.outcome != 'OUTCOME_OK':\n",
    "            display(Markdown(f'## Status {part.code_execution_result.outcome}'))\n",
    "\n",
    "        display(Markdown(f'```\\n{part.code_execution_result.output}\\n```'))"
   ]
  },
  {
   "cell_type": "markdown",
   "id": "fd517fd9",
   "metadata": {
    "id": "1gUX8QzCj4d5",
    "papermill": {
     "duration": 0.01523,
     "end_time": "2025-03-30T20:19:01.693015",
     "exception": false,
     "start_time": "2025-03-30T20:19:01.677785",
     "status": "completed"
    },
    "tags": []
   },
   "source": [
    "### Explaining code\n",
    "\n",
    "The Gemini family of models can explain code to you too. In this example, you pass a [bash script](https://github.com/magicmonty/bash-git-prompt) and ask some questions.\n",
    "\n",
    "<table align=left>\n",
    "  <td>\n",
    "    <a target=\"_blank\" href=\"https://aistudio.google.com/prompts/1N7LGzWzCYieyOf_7bAG4plrmkpDNmUyb\"><img src=\"https://ai.google.dev/site-assets/images/marketing/home/icon-ais.png\" style=\"height: 24px\" height=24/> Open in AI Studio</a>\n",
    "  </td>\n",
    "</table>"
   ]
  },
  {
   "cell_type": "code",
   "execution_count": 33,
   "id": "a15fd418",
   "metadata": {
    "execution": {
     "iopub.execute_input": "2025-03-30T20:19:01.727166Z",
     "iopub.status.busy": "2025-03-30T20:19:01.726810Z",
     "iopub.status.idle": "2025-03-30T20:19:04.545784Z",
     "shell.execute_reply": "2025-03-30T20:19:04.544669Z"
    },
    "id": "7_jPMMoxkIEb",
    "papermill": {
     "duration": 2.838162,
     "end_time": "2025-03-30T20:19:04.548188",
     "exception": false,
     "start_time": "2025-03-30T20:19:01.710026",
     "status": "completed"
    },
    "tags": []
   },
   "outputs": [
    {
     "data": {
      "text/markdown": [
       "This file is a shell script (likely `bash-git-prompt.sh`) designed to enhance your command-line prompt with information about the Git repository you're currently working in.\n",
       "\n",
       "**What it does:**\n",
       "\n",
       "In a nutshell, this script customizes your terminal prompt to display useful Git-related information, such as:\n",
       "\n",
       "*   **The current branch:**  It shows which branch you're currently on (e.g., `main`, `develop`, `feature/new-thing`).\n",
       "*   **Git status:**  It indicates whether there are any uncommitted changes, staged changes, conflicts, or untracked files.\n",
       "*   **Upstream status:** It indicates whether you are ahead, behind, or even with the remote repository.\n",
       "*   **Virtual environment:** Displays virtual environment if activated.\n",
       "\n",
       "**Why would you use it?**\n",
       "\n",
       "This type of script is beneficial if you frequently work with Git repositories from the command line.  It provides a quick visual overview of your repository's state directly in your prompt, saving you from having to type `git status` repeatedly. This allows you to easily see if you have uncommitted changes, need to pull from or push to a remote repository, etc.\n",
       "\n",
       "**How to Use It (Very Basic):**\n",
       "\n",
       "1.  **Download the script.**\n",
       "2.  **Source it in your shell configuration file** (e.g., `.bashrc` or `.zshrc`).  Add a line like:\n",
       "    ```bash\n",
       "    source /path/to/bash-git-prompt.sh\n",
       "    ```\n",
       "3.  **Customize (Optional):**  The script often supports customization via environment variables. You might change colors, symbols, or the information displayed. Look for options related to `GIT_PROMPT_*` within the script's code or in its documentation.\n",
       "4.  **Restart your terminal** or source your configuration file (e.g., `source ~/.bashrc`) to apply the changes.\n",
       "\n",
       "After installation, your command prompt will change when you are inside a Git repository, displaying relevant information.\n"
      ],
      "text/plain": [
       "<IPython.core.display.Markdown object>"
      ]
     },
     "execution_count": 33,
     "metadata": {},
     "output_type": "execute_result"
    }
   ],
   "source": [
    "file_contents = !curl https://raw.githubusercontent.com/magicmonty/bash-git-prompt/refs/heads/master/gitprompt.sh\n",
    "\n",
    "explain_prompt = f\"\"\"\n",
    "Please explain what this file does at a very high level. What is it, and why would I use it?\n",
    "\n",
    "```\n",
    "{file_contents}\n",
    "```\n",
    "\"\"\"\n",
    "\n",
    "response = client.models.generate_content(\n",
    "    model='gemini-2.0-flash',\n",
    "    contents=explain_prompt)\n",
    "\n",
    "Markdown(response.text)"
   ]
  },
  {
   "cell_type": "markdown",
   "id": "dae4adca",
   "metadata": {
    "id": "2a8266d97ce5",
    "papermill": {
     "duration": 0.016385,
     "end_time": "2025-03-30T20:19:04.580497",
     "exception": false,
     "start_time": "2025-03-30T20:19:04.564112",
     "status": "completed"
    },
    "tags": []
   },
   "source": [
    "## Learn more\n",
    "\n",
    "To learn more about prompting in depth:\n",
    "\n",
    "* Check out the whitepaper issued with today's content,\n",
    "* Try out the apps listed at the top of this notebook ([TextFX](https://textfx.withgoogle.com/), [SQL Talk](https://sql-talk-r5gdynozbq-uc.a.run.app/) and [NotebookLM](https://notebooklm.google/)),\n",
    "* Read the [Introduction to Prompting](https://ai.google.dev/gemini-api/docs/prompting-intro) from the Gemini API docs,\n",
    "* Explore the Gemini API's [prompt gallery](https://ai.google.dev/gemini-api/prompts) and try them out in AI Studio,\n",
    "* Check out the Gemini API cookbook for [inspirational examples](https://github.com/google-gemini/cookbook/blob/main/examples/) and [educational quickstarts](https://github.com/google-gemini/cookbook/blob/main/quickstarts/).\n",
    "\n",
    "Be sure to check out the codelabs on day 3 too, where you will explore some more advanced prompting with code execution.\n",
    "\n",
    "And please share anything exciting you have tried in the Discord!\n",
    "\n",
    "*- [Mark McD](https://linktr.ee/markmcd)*"
   ]
  },
  {
   "cell_type": "code",
   "execution_count": null,
   "id": "3b2fe29d",
   "metadata": {
    "papermill": {
     "duration": 0.015298,
     "end_time": "2025-03-30T20:19:04.611504",
     "exception": false,
     "start_time": "2025-03-30T20:19:04.596206",
     "status": "completed"
    },
    "tags": []
   },
   "outputs": [],
   "source": []
  }
 ],
 "metadata": {
  "colab": {
   "name": "day-1-prompting.ipynb",
   "toc_visible": true
  },
  "kaggle": {
   "accelerator": "none",
   "dataSources": [],
   "dockerImageVersionId": 30786,
   "isGpuEnabled": false,
   "isInternetEnabled": true,
   "language": "python",
   "sourceType": "notebook"
  },
  "kernelspec": {
   "display_name": "Python 3",
   "language": "python",
   "name": "python3"
  },
  "language_info": {
   "codemirror_mode": {
    "name": "ipython",
    "version": 3
   },
   "file_extension": ".py",
   "mimetype": "text/x-python",
   "name": "python",
   "nbconvert_exporter": "python",
   "pygments_lexer": "ipython3",
   "version": "3.10.14"
  },
  "papermill": {
   "default_parameters": {},
   "duration": 95.401246,
   "end_time": "2025-03-30T20:19:05.347924",
   "environment_variables": {},
   "exception": null,
   "input_path": "__notebook__.ipynb",
   "output_path": "__notebook__.ipynb",
   "parameters": {},
   "start_time": "2025-03-30T20:17:29.946678",
   "version": "2.6.0"
  }
 },
 "nbformat": 4,
 "nbformat_minor": 5
}
